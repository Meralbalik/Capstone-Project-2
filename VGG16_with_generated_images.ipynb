{
  "nbformat": 4,
  "nbformat_minor": 0,
  "metadata": {
    "colab": {
      "name": "VGG16_with_generated_images.ipynb",
      "provenance": [],
      "collapsed_sections": [],
      "toc_visible": true,
      "mount_file_id": "1x1X6OY-OkJq2vCGCauAdL3yREV5NRvuI",
      "authorship_tag": "ABX9TyNElFMzfRBhCWZd9eQ4gVax",
      "include_colab_link": true
    },
    "kernelspec": {
      "name": "python3",
      "display_name": "Python 3"
    },
    "accelerator": "GPU"
  },
  "cells": [
    {
      "cell_type": "markdown",
      "metadata": {
        "id": "view-in-github",
        "colab_type": "text"
      },
      "source": [
        "<a href=\"https://colab.research.google.com/github/Meralbalik/Capstone-Project-2/blob/master/VGG16_with_generated_images.ipynb\" target=\"_parent\"><img src=\"https://colab.research.google.com/assets/colab-badge.svg\" alt=\"Open In Colab\"/></a>"
      ]
    },
    {
      "cell_type": "markdown",
      "metadata": {
        "id": "uAXc882x-prc",
        "colab_type": "text"
      },
      "source": [
        "# VGG-16 For Detecting Pneumonia From X-Ray Images"
      ]
    },
    {
      "cell_type": "code",
      "metadata": {
        "id": "tKkFR4kNUotx",
        "colab_type": "code",
        "colab": {
          "base_uri": "https://localhost:8080/",
          "height": 54
        },
        "outputId": "7fdefc41-4c54-4972-c43c-0ea57221a21e"
      },
      "source": [
        "# connecting to google drive\n",
        "from google.colab import drive\n",
        "drive.mount('/content/drive')"
      ],
      "execution_count": 1,
      "outputs": [
        {
          "output_type": "stream",
          "text": [
            "Drive already mounted at /content/drive; to attempt to forcibly remount, call drive.mount(\"/content/drive\", force_remount=True).\n"
          ],
          "name": "stdout"
        }
      ]
    },
    {
      "cell_type": "code",
      "metadata": {
        "id": "NXG0PajNU3dz",
        "colab_type": "code",
        "colab": {
          "base_uri": "https://localhost:8080/",
          "height": 34
        },
        "outputId": "8aa46bc4-1a66-47df-cc47-1003fbe2e7bc"
      },
      "source": [
        "import tensorflow as tf\n",
        "import os\n",
        "from tensorflow.keras.preprocessing.image import ImageDataGenerator\n",
        "from keras.applications import VGG16\n",
        "# , load_img, img_to_array\n",
        "from keras.layers import Dropout, Flatten, Dense, GlobalAveragePooling2D\n",
        "from keras.models import Model, Sequential\n",
        "import matplotlib.pyplot as plt"
      ],
      "execution_count": 2,
      "outputs": [
        {
          "output_type": "stream",
          "text": [
            "Using TensorFlow backend.\n"
          ],
          "name": "stderr"
        }
      ]
    },
    {
      "cell_type": "code",
      "metadata": {
        "id": "X4F-lNlzb9r6",
        "colab_type": "code",
        "colab": {
          "base_uri": "https://localhost:8080/",
          "height": 34
        },
        "outputId": "3d760561-a941-4b05-c02a-a82a80660671"
      },
      "source": [
        "# listing the files in the directory\n",
        "!ls '/content/drive/My Drive/Colab Notebooks/chest_xray/'"
      ],
      "execution_count": 3,
      "outputs": [
        {
          "output_type": "stream",
          "text": [
            "chest_xray  __MACOSX  normal_gan_added_to_train\n"
          ],
          "name": "stdout"
        }
      ]
    },
    {
      "cell_type": "code",
      "metadata": {
        "id": "3j-0YejGcB5V",
        "colab_type": "code",
        "colab": {
          "base_uri": "https://localhost:8080/",
          "height": 34
        },
        "outputId": "11000343-650c-4e4d-9529-11d689e9f913"
      },
      "source": [
        "data_path = '/content/drive/My Drive/Colab Notebooks/chest_xray/normal_gan_added_to_train/'\n",
        "!ls '/content/drive/My Drive/Colab Notebooks/chest_xray/normal_gan_added_to_train/'"
      ],
      "execution_count": 4,
      "outputs": [
        {
          "output_type": "stream",
          "text": [
            "test  train  val\n"
          ],
          "name": "stdout"
        }
      ]
    },
    {
      "cell_type": "markdown",
      "metadata": {
        "id": "ndHCDaPKc3vx",
        "colab_type": "text"
      },
      "source": [
        "## Data Preperation"
      ]
    },
    {
      "cell_type": "code",
      "metadata": {
        "id": "tUD63Qp0cKRO",
        "colab_type": "code",
        "colab": {}
      },
      "source": [
        "# importing necessary packages\n",
        "import tensorflow as tf\n",
        "import matplotlib.pyplot as plt\n",
        "import os\n",
        "import pandas as pd\n",
        "import numpy as np\n",
        "\n",
        "# setting seeds for reproducibility\n",
        "seed = 232\n",
        "np.random.seed(seed)\n",
        "tf.random.set_seed(seed)"
      ],
      "execution_count": 5,
      "outputs": []
    },
    {
      "cell_type": "code",
      "metadata": {
        "id": "UVPFMGT5U3aB",
        "colab_type": "code",
        "colab": {}
      },
      "source": [
        "# assigning variables with the proper file path for the training, validation and test set\n",
        "train_dir = os.path.join(data_path, 'train')\n",
        "val_dir = os.path.join(data_path, 'val')\n",
        "test_dir = os.path.join(data_path, 'test')"
      ],
      "execution_count": 6,
      "outputs": []
    },
    {
      "cell_type": "code",
      "metadata": {
        "id": "COIb6EnpU3Vs",
        "colab_type": "code",
        "colab": {}
      },
      "source": [
        "# assigning variables with the proper file path for the normal and pneumonia images \n",
        "train_normal_dir = os.path.join(train_dir, 'NORMAL')  \n",
        "train_pneumonia_dir = os.path.join(train_dir, 'PNEUMONIA')  \n",
        "val_normal_dir = os.path.join(val_dir, 'NORMAL') \n",
        "val_pneumonia_dir = os.path.join(val_dir, 'PNEUMONIA') \n",
        "test_normal_dir = os.path.join(test_dir, 'NORMAL')  \n",
        "test_pneumonia_dir = os.path.join(test_dir, 'PNEUMONIA')"
      ],
      "execution_count": 7,
      "outputs": []
    },
    {
      "cell_type": "code",
      "metadata": {
        "id": "fTZG44tlU3SM",
        "colab_type": "code",
        "colab": {}
      },
      "source": [
        "# image generator(Keras object) generates batches of tensor image data and this is the format that \n",
        "# the images nedd to be in and read by Keras model\n",
        "train_image_generator = ImageDataGenerator(rescale=1./255,\n",
        "                                           zoom_range=0.3, vertical_flip=True) # Generator for training data\n",
        "val_image_generator = ImageDataGenerator(rescale=1./255) # Generator for validation data\n",
        "test_image_generator = ImageDataGenerator(rescale=1./255)"
      ],
      "execution_count": 8,
      "outputs": []
    },
    {
      "cell_type": "code",
      "metadata": {
        "id": "CJU3m4QtZi0P",
        "colab_type": "code",
        "colab": {}
      },
      "source": [
        "# defining the hyperparameters\n",
        "batch_size = 32\n",
        "epochs = 20\n",
        "img_height = 128\n",
        "img_width = 128"
      ],
      "execution_count": 9,
      "outputs": []
    },
    {
      "cell_type": "code",
      "metadata": {
        "id": "9QnYdg-pU3OW",
        "colab_type": "code",
        "colab": {
          "base_uri": "https://localhost:8080/",
          "height": 68
        },
        "outputId": "57d4223f-5f0a-490c-f742-5163420ccd25"
      },
      "source": [
        "# flow from directory is taking the path to a directory and generates batches of normalized data\n",
        "# distribution of the datasets\n",
        "train_data_gen = train_image_generator.flow_from_directory(batch_size=batch_size, directory=train_dir,\n",
        "                                                           target_size=(img_height, img_width),\n",
        "                                                           class_mode='binary', shuffle=True)\n",
        "val_data_gen = val_image_generator.flow_from_directory(batch_size=2, directory=val_dir,\n",
        "                                                              target_size=(img_height, img_width),\n",
        "                                                              class_mode='binary',shuffle=True)\n",
        "test_data_gen = test_image_generator.flow_from_directory(batch_size=batch_size, directory=test_dir,\n",
        "                                                              target_size=(img_height, img_width),\n",
        "                                                              class_mode='binary', shuffle=True)"
      ],
      "execution_count": 10,
      "outputs": [
        {
          "output_type": "stream",
          "text": [
            "Found 7906 images belonging to 2 classes.\n",
            "Found 16 images belonging to 2 classes.\n",
            "Found 624 images belonging to 2 classes.\n"
          ],
          "name": "stdout"
        }
      ]
    },
    {
      "cell_type": "markdown",
      "metadata": {
        "id": "x9JU5CZYcucg",
        "colab_type": "text"
      },
      "source": [
        "## Build Fine-Tuned VGG16 Model"
      ]
    },
    {
      "cell_type": "code",
      "metadata": {
        "id": "zx83dTKTbF6T",
        "colab_type": "code",
        "colab": {}
      },
      "source": [
        "vgg16_model = VGG16(weights = \"imagenet\", include_top=False, input_shape = (img_height,img_width, 3))"
      ],
      "execution_count": null,
      "outputs": []
    },
    {
      "cell_type": "code",
      "metadata": {
        "id": "CsBD9ay8bF2d",
        "colab_type": "code",
        "colab": {
          "base_uri": "https://localhost:8080/",
          "height": 799
        },
        "outputId": "8bc2242f-10b2-4dc5-da81-7bffa4952a3d"
      },
      "source": [
        "vgg16_model.summary()"
      ],
      "execution_count": 12,
      "outputs": [
        {
          "output_type": "stream",
          "text": [
            "Model: \"vgg16\"\n",
            "_________________________________________________________________\n",
            "Layer (type)                 Output Shape              Param #   \n",
            "=================================================================\n",
            "input_1 (InputLayer)         (None, 128, 128, 3)       0         \n",
            "_________________________________________________________________\n",
            "block1_conv1 (Conv2D)        (None, 128, 128, 64)      1792      \n",
            "_________________________________________________________________\n",
            "block1_conv2 (Conv2D)        (None, 128, 128, 64)      36928     \n",
            "_________________________________________________________________\n",
            "block1_pool (MaxPooling2D)   (None, 64, 64, 64)        0         \n",
            "_________________________________________________________________\n",
            "block2_conv1 (Conv2D)        (None, 64, 64, 128)       73856     \n",
            "_________________________________________________________________\n",
            "block2_conv2 (Conv2D)        (None, 64, 64, 128)       147584    \n",
            "_________________________________________________________________\n",
            "block2_pool (MaxPooling2D)   (None, 32, 32, 128)       0         \n",
            "_________________________________________________________________\n",
            "block3_conv1 (Conv2D)        (None, 32, 32, 256)       295168    \n",
            "_________________________________________________________________\n",
            "block3_conv2 (Conv2D)        (None, 32, 32, 256)       590080    \n",
            "_________________________________________________________________\n",
            "block3_conv3 (Conv2D)        (None, 32, 32, 256)       590080    \n",
            "_________________________________________________________________\n",
            "block3_pool (MaxPooling2D)   (None, 16, 16, 256)       0         \n",
            "_________________________________________________________________\n",
            "block4_conv1 (Conv2D)        (None, 16, 16, 512)       1180160   \n",
            "_________________________________________________________________\n",
            "block4_conv2 (Conv2D)        (None, 16, 16, 512)       2359808   \n",
            "_________________________________________________________________\n",
            "block4_conv3 (Conv2D)        (None, 16, 16, 512)       2359808   \n",
            "_________________________________________________________________\n",
            "block4_pool (MaxPooling2D)   (None, 8, 8, 512)         0         \n",
            "_________________________________________________________________\n",
            "block5_conv1 (Conv2D)        (None, 8, 8, 512)         2359808   \n",
            "_________________________________________________________________\n",
            "block5_conv2 (Conv2D)        (None, 8, 8, 512)         2359808   \n",
            "_________________________________________________________________\n",
            "block5_conv3 (Conv2D)        (None, 8, 8, 512)         2359808   \n",
            "_________________________________________________________________\n",
            "block5_pool (MaxPooling2D)   (None, 4, 4, 512)         0         \n",
            "=================================================================\n",
            "Total params: 14,714,688\n",
            "Trainable params: 14,714,688\n",
            "Non-trainable params: 0\n",
            "_________________________________________________________________\n"
          ],
          "name": "stdout"
        }
      ]
    },
    {
      "cell_type": "code",
      "metadata": {
        "id": "5uWkL0dubFvC",
        "colab_type": "code",
        "colab": {
          "base_uri": "https://localhost:8080/",
          "height": 340
        },
        "outputId": "2aab41ad-8d91-496e-9dc1-3cdde86344b3"
      },
      "source": [
        "# iterating over all the layers in VGG16 by creating a for loop\n",
        "for i,layer in enumerate(vgg16_model.layers):\n",
        "    print(i,layer.name)"
      ],
      "execution_count": 13,
      "outputs": [
        {
          "output_type": "stream",
          "text": [
            "0 input_1\n",
            "1 block1_conv1\n",
            "2 block1_conv2\n",
            "3 block1_pool\n",
            "4 block2_conv1\n",
            "5 block2_conv2\n",
            "6 block2_pool\n",
            "7 block3_conv1\n",
            "8 block3_conv2\n",
            "9 block3_conv3\n",
            "10 block3_pool\n",
            "11 block4_conv1\n",
            "12 block4_conv2\n",
            "13 block4_conv3\n",
            "14 block4_pool\n",
            "15 block5_conv1\n",
            "16 block5_conv2\n",
            "17 block5_conv3\n",
            "18 block5_pool\n"
          ],
          "name": "stdout"
        }
      ]
    },
    {
      "cell_type": "code",
      "metadata": {
        "id": "brqrLnXzU3DT",
        "colab_type": "code",
        "colab": {
          "base_uri": "https://localhost:8080/",
          "height": 1000
        },
        "outputId": "2219149c-ef3d-4e8d-b9e9-e027e4b7d17c"
      },
      "source": [
        "x = vgg16_model.output\n",
        "x = Flatten()(x)\n",
        "x = Dense(1024, activation = \"relu\")(x)\n",
        "x = Dropout(0.5)(x)\n",
        "x = Dense(512, activation = \"relu\")(x)\n",
        "x = Dropout(0.3)(x)\n",
        "x = Dense(256, activation = \"relu\")(x)\n",
        "x = Dropout(0.2)(x)\n",
        "preds = Dense(1, activation = \"sigmoid\")(x)\n",
        "\n",
        "model = Model(input = vgg16_model.input, output = preds)\n",
        "\n",
        "for layer in model.layers[:18]:\n",
        "    layer.trainable=False\n",
        "    \n",
        "model.summary()"
      ],
      "execution_count": 14,
      "outputs": [
        {
          "output_type": "stream",
          "text": [
            "Model: \"model_1\"\n",
            "_________________________________________________________________\n",
            "Layer (type)                 Output Shape              Param #   \n",
            "=================================================================\n",
            "input_1 (InputLayer)         (None, 128, 128, 3)       0         \n",
            "_________________________________________________________________\n",
            "block1_conv1 (Conv2D)        (None, 128, 128, 64)      1792      \n",
            "_________________________________________________________________\n",
            "block1_conv2 (Conv2D)        (None, 128, 128, 64)      36928     \n",
            "_________________________________________________________________\n",
            "block1_pool (MaxPooling2D)   (None, 64, 64, 64)        0         \n",
            "_________________________________________________________________\n",
            "block2_conv1 (Conv2D)        (None, 64, 64, 128)       73856     \n",
            "_________________________________________________________________\n",
            "block2_conv2 (Conv2D)        (None, 64, 64, 128)       147584    \n",
            "_________________________________________________________________\n",
            "block2_pool (MaxPooling2D)   (None, 32, 32, 128)       0         \n",
            "_________________________________________________________________\n",
            "block3_conv1 (Conv2D)        (None, 32, 32, 256)       295168    \n",
            "_________________________________________________________________\n",
            "block3_conv2 (Conv2D)        (None, 32, 32, 256)       590080    \n",
            "_________________________________________________________________\n",
            "block3_conv3 (Conv2D)        (None, 32, 32, 256)       590080    \n",
            "_________________________________________________________________\n",
            "block3_pool (MaxPooling2D)   (None, 16, 16, 256)       0         \n",
            "_________________________________________________________________\n",
            "block4_conv1 (Conv2D)        (None, 16, 16, 512)       1180160   \n",
            "_________________________________________________________________\n",
            "block4_conv2 (Conv2D)        (None, 16, 16, 512)       2359808   \n",
            "_________________________________________________________________\n",
            "block4_conv3 (Conv2D)        (None, 16, 16, 512)       2359808   \n",
            "_________________________________________________________________\n",
            "block4_pool (MaxPooling2D)   (None, 8, 8, 512)         0         \n",
            "_________________________________________________________________\n",
            "block5_conv1 (Conv2D)        (None, 8, 8, 512)         2359808   \n",
            "_________________________________________________________________\n",
            "block5_conv2 (Conv2D)        (None, 8, 8, 512)         2359808   \n",
            "_________________________________________________________________\n",
            "block5_conv3 (Conv2D)        (None, 8, 8, 512)         2359808   \n",
            "_________________________________________________________________\n",
            "block5_pool (MaxPooling2D)   (None, 4, 4, 512)         0         \n",
            "_________________________________________________________________\n",
            "flatten_1 (Flatten)          (None, 8192)              0         \n",
            "_________________________________________________________________\n",
            "dense_1 (Dense)              (None, 1024)              8389632   \n",
            "_________________________________________________________________\n",
            "dropout_1 (Dropout)          (None, 1024)              0         \n",
            "_________________________________________________________________\n",
            "dense_2 (Dense)              (None, 512)               524800    \n",
            "_________________________________________________________________\n",
            "dropout_2 (Dropout)          (None, 512)               0         \n",
            "_________________________________________________________________\n",
            "dense_3 (Dense)              (None, 256)               131328    \n",
            "_________________________________________________________________\n",
            "dropout_3 (Dropout)          (None, 256)               0         \n",
            "_________________________________________________________________\n",
            "dense_4 (Dense)              (None, 1)                 257       \n",
            "=================================================================\n",
            "Total params: 23,760,705\n",
            "Trainable params: 9,046,017\n",
            "Non-trainable params: 14,714,688\n",
            "_________________________________________________________________\n"
          ],
          "name": "stdout"
        },
        {
          "output_type": "stream",
          "text": [
            "/usr/local/lib/python3.6/dist-packages/ipykernel_launcher.py:11: UserWarning: Update your `Model` call to the Keras 2 API: `Model(inputs=Tensor(\"in..., outputs=Tensor(\"de...)`\n",
            "  # This is added back by InteractiveShellApp.init_path()\n"
          ],
          "name": "stderr"
        }
      ]
    },
    {
      "cell_type": "markdown",
      "metadata": {
        "id": "hMY5IYblL6Df",
        "colab_type": "text"
      },
      "source": [
        "## Train the Fine-Tuned VGG model"
      ]
    },
    {
      "cell_type": "code",
      "metadata": {
        "id": "M_sNpesWJ73b",
        "colab_type": "code",
        "colab": {}
      },
      "source": [
        "model.compile(optimizer='adam', loss='binary_crossentropy', metrics=['accuracy'])"
      ],
      "execution_count": 15,
      "outputs": []
    },
    {
      "cell_type": "code",
      "metadata": {
        "id": "o4p1cBcOMG_w",
        "colab_type": "code",
        "colab": {
          "base_uri": "https://localhost:8080/",
          "height": 34
        },
        "outputId": "4e16c3f4-cb46-4005-dacd-bfb504b65163"
      },
      "source": [
        "# number of images for both train and test sets\n",
        "total_train = len(os.listdir(train_normal_dir)) + len(os.listdir(train_pneumonia_dir))\n",
        "total_test = len(os.listdir(test_normal_dir)) + len(os.listdir(test_pneumonia_dir))\n",
        "print(total_train, total_test)"
      ],
      "execution_count": 16,
      "outputs": [
        {
          "output_type": "stream",
          "text": [
            "7906 624\n"
          ],
          "name": "stdout"
        }
      ]
    },
    {
      "cell_type": "code",
      "metadata": {
        "id": "tPxMVBSgTNIp",
        "colab_type": "code",
        "colab": {
          "base_uri": "https://localhost:8080/",
          "height": 34
        },
        "outputId": "a576822f-bade-4727-986f-1b56870eb0d0"
      },
      "source": [
        "%cd /content/drive/My Drive/Colab Notebooks/chest_xray/normal_gan_added_to_train/"
      ],
      "execution_count": 17,
      "outputs": [
        {
          "output_type": "stream",
          "text": [
            "/content/drive/My Drive/Colab Notebooks/chest_xray/normal_gan_added_to_train\n"
          ],
          "name": "stdout"
        }
      ]
    },
    {
      "cell_type": "code",
      "metadata": {
        "id": "Dd5YuLGYMRxn",
        "colab_type": "code",
        "colab": {
          "base_uri": "https://localhost:8080/",
          "height": 598
        },
        "outputId": "1368a258-cc89-4648-b6b4-9bc22a61e7f0"
      },
      "source": [
        "# fitting the model\n",
        "from keras.callbacks import EarlyStopping, ReduceLROnPlateau, ModelCheckpoint\n",
        "\n",
        "checkpoint = ModelCheckpoint(filepath='/content/drive/My Drive/Colab Notebooks/vgg16_withgan_weights.hdf5', \n",
        "                             monitor='val_loss', save_best_only=True, save_weights_only=True)\n",
        "lr_reduce = ReduceLROnPlateau(monitor='val_loss', factor=0.3, patience=2, verbose=1, mode='auto')\n",
        "early_stopping = EarlyStopping(monitor='val_loss', min_delta=0.1, patience=10, mode='auto',verbose=1)\n",
        "\n",
        "history = model.fit_generator( \n",
        "    train_data_gen,\n",
        "    steps_per_epoch = total_train // batch_size, epochs=epochs,\n",
        "    validation_data=test_data_gen,\n",
        "    validation_steps = total_test // batch_size,\n",
        "    callbacks = [early_stopping, lr_reduce, checkpoint])"
      ],
      "execution_count": 18,
      "outputs": [
        {
          "output_type": "stream",
          "text": [
            "Epoch 1/20\n",
            "247/247 [==============================] - 2325s 9s/step - loss: 0.4004 - accuracy: 0.8244 - val_loss: 0.3598 - val_accuracy: 0.8799\n",
            "Epoch 2/20\n",
            "247/247 [==============================] - 120s 488ms/step - loss: 0.2060 - accuracy: 0.9190 - val_loss: 0.2457 - val_accuracy: 0.8311\n",
            "Epoch 3/20\n",
            "247/247 [==============================] - 122s 495ms/step - loss: 0.2167 - accuracy: 0.9205 - val_loss: 0.3738 - val_accuracy: 0.8699\n",
            "Epoch 4/20\n",
            "247/247 [==============================] - 123s 498ms/step - loss: 0.1850 - accuracy: 0.9282 - val_loss: 0.2512 - val_accuracy: 0.8767\n",
            "\n",
            "Epoch 00004: ReduceLROnPlateau reducing learning rate to 0.0003000000142492354.\n",
            "Epoch 5/20\n",
            "247/247 [==============================] - 123s 497ms/step - loss: 0.1474 - accuracy: 0.9469 - val_loss: 0.3003 - val_accuracy: 0.8986\n",
            "Epoch 6/20\n",
            "247/247 [==============================] - 123s 498ms/step - loss: 0.1338 - accuracy: 0.9522 - val_loss: 0.2771 - val_accuracy: 0.8784\n",
            "\n",
            "Epoch 00006: ReduceLROnPlateau reducing learning rate to 9.000000427477062e-05.\n",
            "Epoch 7/20\n",
            "247/247 [==============================] - 123s 497ms/step - loss: 0.1230 - accuracy: 0.9547 - val_loss: 0.3525 - val_accuracy: 0.8885\n",
            "Epoch 8/20\n",
            "247/247 [==============================] - 121s 491ms/step - loss: 0.1173 - accuracy: 0.9576 - val_loss: 0.2031 - val_accuracy: 0.8851\n",
            "Epoch 9/20\n",
            "247/247 [==============================] - 121s 491ms/step - loss: 0.1129 - accuracy: 0.9594 - val_loss: 0.2692 - val_accuracy: 0.9003\n",
            "Epoch 10/20\n",
            "247/247 [==============================] - 121s 489ms/step - loss: 0.1089 - accuracy: 0.9611 - val_loss: 0.2516 - val_accuracy: 0.8818\n",
            "\n",
            "Epoch 00010: ReduceLROnPlateau reducing learning rate to 2.700000040931627e-05.\n",
            "Epoch 11/20\n",
            "247/247 [==============================] - 121s 491ms/step - loss: 0.1069 - accuracy: 0.9609 - val_loss: 0.3523 - val_accuracy: 0.8885\n",
            "Epoch 12/20\n",
            "247/247 [==============================] - 122s 494ms/step - loss: 0.1073 - accuracy: 0.9597 - val_loss: 0.2372 - val_accuracy: 0.8885\n",
            "\n",
            "Epoch 00012: ReduceLROnPlateau reducing learning rate to 8.100000013655517e-06.\n",
            "Epoch 00012: early stopping\n"
          ],
          "name": "stdout"
        }
      ]
    },
    {
      "cell_type": "code",
      "metadata": {
        "id": "bTIFomzzTK5E",
        "colab_type": "code",
        "colab": {
          "base_uri": "https://localhost:8080/",
          "height": 281
        },
        "outputId": "f41b5922-b2a5-43c1-e5f3-a3796518d7fc"
      },
      "source": [
        "# plotting model accuracy and loss\n",
        "acc = history.history['accuracy']\n",
        "val_acc = history.history['val_accuracy']\n",
        "\n",
        "loss = history.history['loss']\n",
        "val_loss = history.history['val_loss']\n",
        "\n",
        "epochs_range = range(len(acc))\n",
        "\n",
        "plt.figure(figsize=(12, 4))\n",
        "plt.subplot(1, 2, 1)\n",
        "plt.plot(epochs_range, acc, label='train acc')\n",
        "plt.plot(epochs_range, val_acc, label='val acc')\n",
        "plt.legend(loc='lower right')\n",
        "plt.title('Training and Validation Accuracy')\n",
        "\n",
        "plt.subplot(1, 2, 2)\n",
        "plt.plot(epochs_range, loss, label='train loss')\n",
        "plt.plot(epochs_range, val_loss, label='val loss')\n",
        "plt.legend(loc='upper right')\n",
        "plt.title('Training and Validation Loss')\n",
        "plt.show()"
      ],
      "execution_count": 19,
      "outputs": [
        {
          "output_type": "display_data",
          "data": {
            "image/png": "[encoded data removed]",
            "text/plain": [
              "<Figure size 864x288 with 2 Axes>"
            ]
          },
          "metadata": {
            "tags": [],
            "needs_background": "light"
          }
        }
      ]
    },
    {
      "cell_type": "code",
      "metadata": {
        "id": "NPggDBJ4qTX5",
        "colab_type": "code",
        "colab": {
          "base_uri": "https://localhost:8080/",
          "height": 51
        },
        "outputId": "e1f6f150-ca6f-42c5-f090-716860606dce"
      },
      "source": [
        "# Test your model on unknown samples (testing data)\n",
        "test_loss, test_acc = model.evaluate_generator(test_data_gen, steps=16)\n",
        "print('Test accuracy:', test_acc)\n",
        "print('Test loss:', test_loss)"
      ],
      "execution_count": 20,
      "outputs": [
        {
          "output_type": "stream",
          "text": [
            "Test accuracy: 0.890625\n",
            "Test loss: 0.3124958574771881\n"
          ],
          "name": "stdout"
        }
      ]
    },
    {
      "cell_type": "code",
      "metadata": {
        "id": "5e76YCZC-LIJ",
        "colab_type": "code",
        "colab": {
          "base_uri": "https://localhost:8080/",
          "height": 51
        },
        "outputId": "da844baf-4563-4e52-c686-664f79791aeb"
      },
      "source": [
        "# Test your model on unknown samples (testing data)\n",
        "val_loss, val_acc = model.evaluate_generator(val_data_gen, steps=2)\n",
        "print('Validation accuracy:', val_acc)\n",
        "print('Validation loss:', val_loss)"
      ],
      "execution_count": 27,
      "outputs": [
        {
          "output_type": "stream",
          "text": [
            "Validation accuracy: 0.75\n",
            "Validation loss: 0.18598559498786926\n"
          ],
          "name": "stdout"
        }
      ]
    },
    {
      "cell_type": "code",
      "metadata": {
        "id": "ST5fmGB5798i",
        "colab_type": "code",
        "colab": {}
      },
      "source": [
        "# saving model in H5 format.\n",
        "model.save('/content/drive/My Drive/Colab Notebooks/vgg16_withgan_pneumonia.h5')"
      ],
      "execution_count": 22,
      "outputs": []
    },
    {
      "cell_type": "code",
      "metadata": {
        "id": "jjUEIEaVqkLi",
        "colab_type": "code",
        "colab": {
          "base_uri": "https://localhost:8080/",
          "height": 51
        },
        "outputId": "8b440bba-a661-469f-b86d-46a2806d408c"
      },
      "source": [
        "import cv2\n",
        "import numpy as np\n",
        "from collections import Counter\n",
        "\n",
        "data_path = '/content/drive/My Drive/Colab Notebooks/chest_xray/chest_xray/'\n",
        "\n",
        "# making predictions off of the test set \n",
        "# This is useful to be able to get the confusion matrix\n",
        "test_data = []\n",
        "test_labels = []\n",
        "\n",
        "for cond in ['/NORMAL/', '/PNEUMONIA/']:\n",
        "    for img in (os.listdir(data_path + 'test' + cond)):\n",
        "        img = plt.imread(data_path +'test'+ cond + img)\n",
        "        img = cv2.resize(img, (img_height, img_width))\n",
        "        img = np.dstack([img, img, img]) #concatenates along the third dimension\n",
        "        img = img.astype('float32') / 255\n",
        "        if cond =='/NORMAL/':\n",
        "            label = 0\n",
        "        elif cond =='/PNEUMONIA/':\n",
        "            label = 1\n",
        "        test_data.append(img)\n",
        "        test_labels.append(label)\n",
        "        \n",
        "test_data = np.array(test_data)\n",
        "test_labels = np.array(test_labels)\n",
        "    \n",
        "print(\"Total number of test examples: \", test_data.shape)\n",
        "print(\"Total number of labels:\", Counter(test_labels))"
      ],
      "execution_count": 23,
      "outputs": [
        {
          "output_type": "stream",
          "text": [
            "Total number of test examples:  (624, 128, 128, 3)\n",
            "Total number of labels: Counter({1: 390, 0: 234})\n"
          ],
          "name": "stdout"
        }
      ]
    },
    {
      "cell_type": "code",
      "metadata": {
        "id": "yLj3eOqSqxG8",
        "colab_type": "code",
        "colab": {
          "base_uri": "https://localhost:8080/",
          "height": 71
        },
        "outputId": "ebb4813c-8bc9-41db-cd05-61af41be55bf"
      },
      "source": [
        "import seaborn as sns\n",
        "# creating a function that plots the confusion matrix\n",
        "def conf_matrix(conf_mat):\n",
        "    labels = ['NORMAL', 'PNEUMONIA']\n",
        "    ax=sns.heatmap(conf_mat, xticklabels=labels, yticklabels=labels,\n",
        "                   annot=True, fmt='d', cmap=\"Blues\")\n",
        "    ax.set_title('Confusion Matrix')"
      ],
      "execution_count": 24,
      "outputs": [
        {
          "output_type": "stream",
          "text": [
            "/usr/local/lib/python3.6/dist-packages/statsmodels/tools/_testing.py:19: FutureWarning: pandas.util.testing is deprecated. Use the functions in the public API at pandas.testing instead.\n",
            "  import pandas.util.testing as tm\n"
          ],
          "name": "stderr"
        }
      ]
    },
    {
      "cell_type": "code",
      "metadata": {
        "id": "s3MFmIZCq4JX",
        "colab_type": "code",
        "colab": {}
      },
      "source": [
        "from sklearn.metrics import accuracy_score, confusion_matrix, classification_report\n",
        "\n",
        "preds = model.predict(test_data)\n",
        "\n",
        "acc = accuracy_score(test_labels, np.round(preds))*100\n",
        "cm = confusion_matrix(test_labels, np.round(preds))"
      ],
      "execution_count": 25,
      "outputs": []
    },
    {
      "cell_type": "code",
      "metadata": {
        "id": "AGUx8P2hq8S-",
        "colab_type": "code",
        "colab": {
          "base_uri": "https://localhost:8080/",
          "height": 434
        },
        "outputId": "577a5d9e-a37c-4c73-fd3e-3c19072c9adc"
      },
      "source": [
        "# calling the confusion matrix    \n",
        "conf_matrix(cm)\n",
        "\n",
        "print(classification_report(test_labels, np.round(preds)))"
      ],
      "execution_count": 26,
      "outputs": [
        {
          "output_type": "stream",
          "text": [
            "              precision    recall  f1-score   support\n",
            "\n",
            "           0       0.96      0.74      0.83       234\n",
            "           1       0.86      0.98      0.92       390\n",
            "\n",
            "    accuracy                           0.89       624\n",
            "   macro avg       0.91      0.86      0.88       624\n",
            "weighted avg       0.90      0.89      0.89       624\n",
            "\n"
          ],
          "name": "stdout"
        },
        {
          "output_type": "display_data",
          "data": {
            "image/png": "[encoded data removed]",
            "text/plain": [
              "<Figure size 432x288 with 2 Axes>"
            ]
          },
          "metadata": {
            "tags": [],
            "needs_background": "light"
          }
        }
      ]
    },
    {
      "cell_type": "code",
      "metadata": {
        "id": "kMJsreJqq_fr",
        "colab_type": "code",
        "colab": {}
      },
      "source": [
        ""
      ],
      "execution_count": 26,
      "outputs": []
    }
  ]
}