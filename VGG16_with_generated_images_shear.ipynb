{
  "nbformat": 4,
  "nbformat_minor": 0,
  "metadata": {
    "colab": {
      "name": "VGG16_with_generated_images_shear.ipynb",
      "provenance": [],
      "collapsed_sections": [],
      "toc_visible": true,
      "mount_file_id": "1x1X6OY-OkJq2vCGCauAdL3yREV5NRvuI",
      "authorship_tag": "ABX9TyOVvUYG7/sS5N+wsCCc8B12",
      "include_colab_link": true
    },
    "kernelspec": {
      "name": "python3",
      "display_name": "Python 3"
    },
    "accelerator": "GPU"
  },
  "cells": [
    {
      "cell_type": "markdown",
      "metadata": {
        "id": "view-in-github",
        "colab_type": "text"
      },
      "source": [
        "<a href=\"https://colab.research.google.com/github/Meralbalik/Capstone-Project-2/blob/master/VGG16_with_generated_images_shear.ipynb\" target=\"_parent\"><img src=\"https://colab.research.google.com/assets/colab-badge.svg\" alt=\"Open In Colab\"/></a>"
      ]
    },
    {
      "cell_type": "markdown",
      "metadata": {
        "id": "uAXc882x-prc",
        "colab_type": "text"
      },
      "source": [
        "# VGG-16 For Detecting Pneumonia From X-Ray Images"
      ]
    },
    {
      "cell_type": "code",
      "metadata": {
        "id": "tKkFR4kNUotx",
        "colab_type": "code",
        "colab": {
          "base_uri": "https://localhost:8080/",
          "height": 54
        },
        "outputId": "501a1099-d730-456c-ea49-31dac5535411"
      },
      "source": [
        "# connecting to google drive\n",
        "from google.colab import drive\n",
        "drive.mount('/content/drive')"
      ],
      "execution_count": 1,
      "outputs": [
        {
          "output_type": "stream",
          "text": [
            "Drive already mounted at /content/drive; to attempt to forcibly remount, call drive.mount(\"/content/drive\", force_remount=True).\n"
          ],
          "name": "stdout"
        }
      ]
    },
    {
      "cell_type": "code",
      "metadata": {
        "id": "NXG0PajNU3dz",
        "colab_type": "code",
        "colab": {
          "base_uri": "https://localhost:8080/",
          "height": 34
        },
        "outputId": "85760826-4caf-43f7-8da9-3f623a9504c1"
      },
      "source": [
        "import tensorflow as tf\n",
        "import os\n",
        "from tensorflow.keras.preprocessing.image import ImageDataGenerator\n",
        "from keras.applications import VGG16\n",
        "# , load_img, img_to_array\n",
        "from keras.layers import Dropout, Flatten, Dense, GlobalAveragePooling2D\n",
        "from keras.models import Model, Sequential\n",
        "import matplotlib.pyplot as plt"
      ],
      "execution_count": 2,
      "outputs": [
        {
          "output_type": "stream",
          "text": [
            "Using TensorFlow backend.\n"
          ],
          "name": "stderr"
        }
      ]
    },
    {
      "cell_type": "code",
      "metadata": {
        "id": "X4F-lNlzb9r6",
        "colab_type": "code",
        "colab": {
          "base_uri": "https://localhost:8080/",
          "height": 34
        },
        "outputId": "300a47d6-c6ae-4e92-b6df-4e066899be06"
      },
      "source": [
        "# listing the files in the directory\n",
        "!ls '/content/drive/My Drive/Colab Notebooks/chest_xray/'"
      ],
      "execution_count": 3,
      "outputs": [
        {
          "output_type": "stream",
          "text": [
            "chest_xray  __MACOSX  normal_gan_added_to_train\n"
          ],
          "name": "stdout"
        }
      ]
    },
    {
      "cell_type": "code",
      "metadata": {
        "id": "3j-0YejGcB5V",
        "colab_type": "code",
        "colab": {
          "base_uri": "https://localhost:8080/",
          "height": 34
        },
        "outputId": "ca381e04-1a4f-4d8e-f9c4-289220026867"
      },
      "source": [
        "data_path = '/content/drive/My Drive/Colab Notebooks/chest_xray/normal_gan_added_to_train/'\n",
        "!ls '/content/drive/My Drive/Colab Notebooks/chest_xray/normal_gan_added_to_train/'"
      ],
      "execution_count": 4,
      "outputs": [
        {
          "output_type": "stream",
          "text": [
            "test  train  val\n"
          ],
          "name": "stdout"
        }
      ]
    },
    {
      "cell_type": "markdown",
      "metadata": {
        "id": "ndHCDaPKc3vx",
        "colab_type": "text"
      },
      "source": [
        "## Data Preperation"
      ]
    },
    {
      "cell_type": "code",
      "metadata": {
        "id": "tUD63Qp0cKRO",
        "colab_type": "code",
        "colab": {}
      },
      "source": [
        "# importing necessary packages\n",
        "import tensorflow as tf\n",
        "import matplotlib.pyplot as plt\n",
        "import os\n",
        "import pandas as pd\n",
        "import numpy as np\n",
        "\n",
        "# setting seeds for reproducibility\n",
        "seed = 232\n",
        "np.random.seed(seed)\n",
        "tf.random.set_seed(seed)"
      ],
      "execution_count": 5,
      "outputs": []
    },
    {
      "cell_type": "code",
      "metadata": {
        "id": "UVPFMGT5U3aB",
        "colab_type": "code",
        "colab": {}
      },
      "source": [
        "# assigning variables with the proper file path for the training, validation and test set\n",
        "train_dir = os.path.join(data_path, 'train')\n",
        "val_dir = os.path.join(data_path, 'val')\n",
        "test_dir = os.path.join(data_path, 'test')"
      ],
      "execution_count": 6,
      "outputs": []
    },
    {
      "cell_type": "code",
      "metadata": {
        "id": "COIb6EnpU3Vs",
        "colab_type": "code",
        "colab": {}
      },
      "source": [
        "# assigning variables with the proper file path for the normal and pneumonia images \n",
        "train_normal_dir = os.path.join(train_dir, 'NORMAL')  \n",
        "train_pneumonia_dir = os.path.join(train_dir, 'PNEUMONIA')  \n",
        "val_normal_dir = os.path.join(val_dir, 'NORMAL') \n",
        "val_pneumonia_dir = os.path.join(val_dir, 'PNEUMONIA') \n",
        "test_normal_dir = os.path.join(test_dir, 'NORMAL')  \n",
        "test_pneumonia_dir = os.path.join(test_dir, 'PNEUMONIA')"
      ],
      "execution_count": 7,
      "outputs": []
    },
    {
      "cell_type": "code",
      "metadata": {
        "id": "fTZG44tlU3SM",
        "colab_type": "code",
        "colab": {}
      },
      "source": [
        "# image generator(Keras object) generates batches of tensor image data and this is the format that \n",
        "# the images nedd to be in and read by Keras model\n",
        "train_image_generator = ImageDataGenerator(rescale=1./255, shear_range=0.2,\n",
        "                                           zoom_range=0.3, vertical_flip=True) # Generator for training data\n",
        "val_image_generator = ImageDataGenerator(rescale=1./255) # Generator for validation data\n",
        "test_image_generator = ImageDataGenerator(rescale=1./255)"
      ],
      "execution_count": 8,
      "outputs": []
    },
    {
      "cell_type": "code",
      "metadata": {
        "id": "CJU3m4QtZi0P",
        "colab_type": "code",
        "colab": {}
      },
      "source": [
        "# defining the hyperparameters\n",
        "batch_size = 32\n",
        "epochs = 20\n",
        "img_height = 128\n",
        "img_width = 128"
      ],
      "execution_count": 9,
      "outputs": []
    },
    {
      "cell_type": "code",
      "metadata": {
        "id": "9QnYdg-pU3OW",
        "colab_type": "code",
        "colab": {
          "base_uri": "https://localhost:8080/",
          "height": 68
        },
        "outputId": "91f11773-bb89-4338-8a07-660cd599ed7d"
      },
      "source": [
        "# flow from directory is taking the path to a directory and generates batches of normalized data\n",
        "# distribution of the datasets\n",
        "train_data_gen = train_image_generator.flow_from_directory(batch_size=batch_size, directory=train_dir,\n",
        "                                                           target_size=(img_height, img_width),\n",
        "                                                           class_mode='binary', shuffle=True)\n",
        "val_data_gen = val_image_generator.flow_from_directory(batch_size=2, directory=val_dir,\n",
        "                                                              target_size=(img_height, img_width),\n",
        "                                                              class_mode='binary',shuffle=True)\n",
        "test_data_gen = test_image_generator.flow_from_directory(batch_size=batch_size, directory=test_dir,\n",
        "                                                              target_size=(img_height, img_width),\n",
        "                                                              class_mode='binary', shuffle=True)"
      ],
      "execution_count": 10,
      "outputs": [
        {
          "output_type": "stream",
          "text": [
            "Found 7906 images belonging to 2 classes.\n",
            "Found 16 images belonging to 2 classes.\n",
            "Found 624 images belonging to 2 classes.\n"
          ],
          "name": "stdout"
        }
      ]
    },
    {
      "cell_type": "markdown",
      "metadata": {
        "id": "x9JU5CZYcucg",
        "colab_type": "text"
      },
      "source": [
        "## Build Fine-Tuned VGG16 Model"
      ]
    },
    {
      "cell_type": "code",
      "metadata": {
        "id": "zx83dTKTbF6T",
        "colab_type": "code",
        "colab": {
          "base_uri": "https://localhost:8080/",
          "height": 71
        },
        "outputId": "eb5906b7-e51c-4cbe-b9be-a9b58f2bccdf"
      },
      "source": [
        "vgg16_model = VGG16(weights = \"imagenet\", include_top=False, input_shape = (img_height,img_width, 3))"
      ],
      "execution_count": 11,
      "outputs": [
        {
          "output_type": "stream",
          "text": [
            "Downloading data from https://github.com/fchollet/deep-learning-models/releases/download/v0.1/vgg16_weights_tf_dim_ordering_tf_kernels_notop.h5\n",
            "58892288/58889256 [==============================] - 3s 0us/step\n"
          ],
          "name": "stdout"
        }
      ]
    },
    {
      "cell_type": "code",
      "metadata": {
        "id": "CsBD9ay8bF2d",
        "colab_type": "code",
        "colab": {
          "base_uri": "https://localhost:8080/",
          "height": 799
        },
        "outputId": "1308bd6d-276b-443f-ca94-8c8e5808a0a3"
      },
      "source": [
        "vgg16_model.summary()"
      ],
      "execution_count": 12,
      "outputs": [
        {
          "output_type": "stream",
          "text": [
            "Model: \"vgg16\"\n",
            "_________________________________________________________________\n",
            "Layer (type)                 Output Shape              Param #   \n",
            "=================================================================\n",
            "input_1 (InputLayer)         (None, 128, 128, 3)       0         \n",
            "_________________________________________________________________\n",
            "block1_conv1 (Conv2D)        (None, 128, 128, 64)      1792      \n",
            "_________________________________________________________________\n",
            "block1_conv2 (Conv2D)        (None, 128, 128, 64)      36928     \n",
            "_________________________________________________________________\n",
            "block1_pool (MaxPooling2D)   (None, 64, 64, 64)        0         \n",
            "_________________________________________________________________\n",
            "block2_conv1 (Conv2D)        (None, 64, 64, 128)       73856     \n",
            "_________________________________________________________________\n",
            "block2_conv2 (Conv2D)        (None, 64, 64, 128)       147584    \n",
            "_________________________________________________________________\n",
            "block2_pool (MaxPooling2D)   (None, 32, 32, 128)       0         \n",
            "_________________________________________________________________\n",
            "block3_conv1 (Conv2D)        (None, 32, 32, 256)       295168    \n",
            "_________________________________________________________________\n",
            "block3_conv2 (Conv2D)        (None, 32, 32, 256)       590080    \n",
            "_________________________________________________________________\n",
            "block3_conv3 (Conv2D)        (None, 32, 32, 256)       590080    \n",
            "_________________________________________________________________\n",
            "block3_pool (MaxPooling2D)   (None, 16, 16, 256)       0         \n",
            "_________________________________________________________________\n",
            "block4_conv1 (Conv2D)        (None, 16, 16, 512)       1180160   \n",
            "_________________________________________________________________\n",
            "block4_conv2 (Conv2D)        (None, 16, 16, 512)       2359808   \n",
            "_________________________________________________________________\n",
            "block4_conv3 (Conv2D)        (None, 16, 16, 512)       2359808   \n",
            "_________________________________________________________________\n",
            "block4_pool (MaxPooling2D)   (None, 8, 8, 512)         0         \n",
            "_________________________________________________________________\n",
            "block5_conv1 (Conv2D)        (None, 8, 8, 512)         2359808   \n",
            "_________________________________________________________________\n",
            "block5_conv2 (Conv2D)        (None, 8, 8, 512)         2359808   \n",
            "_________________________________________________________________\n",
            "block5_conv3 (Conv2D)        (None, 8, 8, 512)         2359808   \n",
            "_________________________________________________________________\n",
            "block5_pool (MaxPooling2D)   (None, 4, 4, 512)         0         \n",
            "=================================================================\n",
            "Total params: 14,714,688\n",
            "Trainable params: 14,714,688\n",
            "Non-trainable params: 0\n",
            "_________________________________________________________________\n"
          ],
          "name": "stdout"
        }
      ]
    },
    {
      "cell_type": "code",
      "metadata": {
        "id": "5uWkL0dubFvC",
        "colab_type": "code",
        "colab": {
          "base_uri": "https://localhost:8080/",
          "height": 340
        },
        "outputId": "24da80ee-5ce3-4f2f-e384-7869cc5ce1b3"
      },
      "source": [
        "# iterating over all the layers in VGG16 by creating a for loop\n",
        "for i,layer in enumerate(vgg16_model.layers):\n",
        "    print(i,layer.name)"
      ],
      "execution_count": 13,
      "outputs": [
        {
          "output_type": "stream",
          "text": [
            "0 input_1\n",
            "1 block1_conv1\n",
            "2 block1_conv2\n",
            "3 block1_pool\n",
            "4 block2_conv1\n",
            "5 block2_conv2\n",
            "6 block2_pool\n",
            "7 block3_conv1\n",
            "8 block3_conv2\n",
            "9 block3_conv3\n",
            "10 block3_pool\n",
            "11 block4_conv1\n",
            "12 block4_conv2\n",
            "13 block4_conv3\n",
            "14 block4_pool\n",
            "15 block5_conv1\n",
            "16 block5_conv2\n",
            "17 block5_conv3\n",
            "18 block5_pool\n"
          ],
          "name": "stdout"
        }
      ]
    },
    {
      "cell_type": "code",
      "metadata": {
        "id": "brqrLnXzU3DT",
        "colab_type": "code",
        "colab": {
          "base_uri": "https://localhost:8080/",
          "height": 1000
        },
        "outputId": "f6168b30-0a1b-44c6-a9f5-d6fb486d8906"
      },
      "source": [
        "x = vgg16_model.output\n",
        "x = Flatten()(x)\n",
        "x = Dense(1024, activation = \"relu\")(x)\n",
        "x = Dropout(0.5)(x)\n",
        "x = Dense(512, activation = \"relu\")(x)\n",
        "x = Dropout(0.3)(x)\n",
        "x = Dense(256, activation = \"relu\")(x)\n",
        "x = Dropout(0.2)(x)\n",
        "preds = Dense(1, activation = \"sigmoid\")(x)\n",
        "\n",
        "model = Model(input = vgg16_model.input, output = preds)\n",
        "\n",
        "for layer in model.layers[:18]:\n",
        "    layer.trainable=False\n",
        "    \n",
        "model.summary()"
      ],
      "execution_count": 14,
      "outputs": [
        {
          "output_type": "stream",
          "text": [
            "Model: \"model_1\"\n",
            "_________________________________________________________________\n",
            "Layer (type)                 Output Shape              Param #   \n",
            "=================================================================\n",
            "input_1 (InputLayer)         (None, 128, 128, 3)       0         \n",
            "_________________________________________________________________\n",
            "block1_conv1 (Conv2D)        (None, 128, 128, 64)      1792      \n",
            "_________________________________________________________________\n",
            "block1_conv2 (Conv2D)        (None, 128, 128, 64)      36928     \n",
            "_________________________________________________________________\n",
            "block1_pool (MaxPooling2D)   (None, 64, 64, 64)        0         \n",
            "_________________________________________________________________\n",
            "block2_conv1 (Conv2D)        (None, 64, 64, 128)       73856     \n",
            "_________________________________________________________________\n",
            "block2_conv2 (Conv2D)        (None, 64, 64, 128)       147584    \n",
            "_________________________________________________________________\n",
            "block2_pool (MaxPooling2D)   (None, 32, 32, 128)       0         \n",
            "_________________________________________________________________\n",
            "block3_conv1 (Conv2D)        (None, 32, 32, 256)       295168    \n",
            "_________________________________________________________________\n",
            "block3_conv2 (Conv2D)        (None, 32, 32, 256)       590080    \n",
            "_________________________________________________________________\n",
            "block3_conv3 (Conv2D)        (None, 32, 32, 256)       590080    \n",
            "_________________________________________________________________\n",
            "block3_pool (MaxPooling2D)   (None, 16, 16, 256)       0         \n",
            "_________________________________________________________________\n",
            "block4_conv1 (Conv2D)        (None, 16, 16, 512)       1180160   \n",
            "_________________________________________________________________\n",
            "block4_conv2 (Conv2D)        (None, 16, 16, 512)       2359808   \n",
            "_________________________________________________________________\n",
            "block4_conv3 (Conv2D)        (None, 16, 16, 512)       2359808   \n",
            "_________________________________________________________________\n",
            "block4_pool (MaxPooling2D)   (None, 8, 8, 512)         0         \n",
            "_________________________________________________________________\n",
            "block5_conv1 (Conv2D)        (None, 8, 8, 512)         2359808   \n",
            "_________________________________________________________________\n",
            "block5_conv2 (Conv2D)        (None, 8, 8, 512)         2359808   \n",
            "_________________________________________________________________\n",
            "block5_conv3 (Conv2D)        (None, 8, 8, 512)         2359808   \n",
            "_________________________________________________________________\n",
            "block5_pool (MaxPooling2D)   (None, 4, 4, 512)         0         \n",
            "_________________________________________________________________\n",
            "flatten_1 (Flatten)          (None, 8192)              0         \n",
            "_________________________________________________________________\n",
            "dense_1 (Dense)              (None, 1024)              8389632   \n",
            "_________________________________________________________________\n",
            "dropout_1 (Dropout)          (None, 1024)              0         \n",
            "_________________________________________________________________\n",
            "dense_2 (Dense)              (None, 512)               524800    \n",
            "_________________________________________________________________\n",
            "dropout_2 (Dropout)          (None, 512)               0         \n",
            "_________________________________________________________________\n",
            "dense_3 (Dense)              (None, 256)               131328    \n",
            "_________________________________________________________________\n",
            "dropout_3 (Dropout)          (None, 256)               0         \n",
            "_________________________________________________________________\n",
            "dense_4 (Dense)              (None, 1)                 257       \n",
            "=================================================================\n",
            "Total params: 23,760,705\n",
            "Trainable params: 9,046,017\n",
            "Non-trainable params: 14,714,688\n",
            "_________________________________________________________________\n"
          ],
          "name": "stdout"
        },
        {
          "output_type": "stream",
          "text": [
            "/usr/local/lib/python3.6/dist-packages/ipykernel_launcher.py:11: UserWarning: Update your `Model` call to the Keras 2 API: `Model(inputs=Tensor(\"in..., outputs=Tensor(\"de...)`\n",
            "  # This is added back by InteractiveShellApp.init_path()\n"
          ],
          "name": "stderr"
        }
      ]
    },
    {
      "cell_type": "markdown",
      "metadata": {
        "id": "hMY5IYblL6Df",
        "colab_type": "text"
      },
      "source": [
        "## Train the Fine-Tuned VGG model"
      ]
    },
    {
      "cell_type": "code",
      "metadata": {
        "id": "M_sNpesWJ73b",
        "colab_type": "code",
        "colab": {}
      },
      "source": [
        "model.compile(optimizer='adam', loss='binary_crossentropy', metrics=['accuracy'])"
      ],
      "execution_count": 15,
      "outputs": []
    },
    {
      "cell_type": "code",
      "metadata": {
        "id": "o4p1cBcOMG_w",
        "colab_type": "code",
        "colab": {
          "base_uri": "https://localhost:8080/",
          "height": 34
        },
        "outputId": "0c303fe6-85a0-4068-ffcc-dc61264adcf0"
      },
      "source": [
        "# number of images for both train and test sets\n",
        "total_train = len(os.listdir(train_normal_dir)) + len(os.listdir(train_pneumonia_dir))\n",
        "total_test = len(os.listdir(test_normal_dir)) + len(os.listdir(test_pneumonia_dir))\n",
        "print(total_train, total_test)"
      ],
      "execution_count": 16,
      "outputs": [
        {
          "output_type": "stream",
          "text": [
            "7906 624\n"
          ],
          "name": "stdout"
        }
      ]
    },
    {
      "cell_type": "code",
      "metadata": {
        "id": "tPxMVBSgTNIp",
        "colab_type": "code",
        "colab": {
          "base_uri": "https://localhost:8080/",
          "height": 34
        },
        "outputId": "e430d475-2823-4ce4-fafd-1d5d60b62a4c"
      },
      "source": [
        "%cd /content/drive/My Drive/Colab Notebooks/chest_xray/normal_gan_added_to_train/"
      ],
      "execution_count": 17,
      "outputs": [
        {
          "output_type": "stream",
          "text": [
            "/content/drive/My Drive/Colab Notebooks/chest_xray/normal_gan_added_to_train\n"
          ],
          "name": "stdout"
        }
      ]
    },
    {
      "cell_type": "code",
      "metadata": {
        "id": "Dd5YuLGYMRxn",
        "colab_type": "code",
        "colab": {
          "base_uri": "https://localhost:8080/",
          "height": 632
        },
        "outputId": "773d9431-b5a5-417c-a2ee-4a96e811cfee"
      },
      "source": [
        "# fitting the model\n",
        "from keras.callbacks import EarlyStopping, ReduceLROnPlateau, ModelCheckpoint\n",
        "\n",
        "checkpoint = ModelCheckpoint(filepath='/content/drive/My Drive/Colab Notebooks/vgg16_withgan_weights.hdf5', \n",
        "                             monitor='val_loss', save_best_only=True, save_weights_only=True)\n",
        "lr_reduce = ReduceLROnPlateau(monitor='val_loss', factor=0.3, patience=2, verbose=1, mode='auto')\n",
        "early_stopping = EarlyStopping(monitor='val_loss', min_delta=0.1, patience=10, mode='auto',verbose=1)\n",
        "\n",
        "history = model.fit_generator( \n",
        "    train_data_gen,\n",
        "    steps_per_epoch = total_train // batch_size, epochs=epochs,\n",
        "    validation_data=test_data_gen,\n",
        "    validation_steps = total_test // batch_size,\n",
        "    callbacks = [early_stopping, lr_reduce, checkpoint])"
      ],
      "execution_count": 18,
      "outputs": [
        {
          "output_type": "stream",
          "text": [
            "Epoch 1/20\n",
            "247/247 [==============================] - 3749s 15s/step - loss: 0.4032 - accuracy: 0.8274 - val_loss: 0.4459 - val_accuracy: 0.8339\n",
            "Epoch 2/20\n",
            "247/247 [==============================] - 122s 492ms/step - loss: 0.2181 - accuracy: 0.9164 - val_loss: 0.3875 - val_accuracy: 0.8530\n",
            "Epoch 3/20\n",
            "247/247 [==============================] - 118s 479ms/step - loss: 0.1975 - accuracy: 0.9244 - val_loss: 0.1942 - val_accuracy: 0.8497\n",
            "Epoch 4/20\n",
            "247/247 [==============================] - 122s 495ms/step - loss: 0.1937 - accuracy: 0.9268 - val_loss: 0.3336 - val_accuracy: 0.8649\n",
            "Epoch 5/20\n",
            "247/247 [==============================] - 117s 476ms/step - loss: 0.2089 - accuracy: 0.9195 - val_loss: 0.4664 - val_accuracy: 0.8514\n",
            "\n",
            "Epoch 00005: ReduceLROnPlateau reducing learning rate to 0.0003000000142492354.\n",
            "Epoch 6/20\n",
            "247/247 [==============================] - 120s 488ms/step - loss: 0.1594 - accuracy: 0.9415 - val_loss: 0.3757 - val_accuracy: 0.8378\n",
            "Epoch 7/20\n",
            "247/247 [==============================] - 118s 478ms/step - loss: 0.1338 - accuracy: 0.9515 - val_loss: 0.5641 - val_accuracy: 0.8885\n",
            "\n",
            "Epoch 00007: ReduceLROnPlateau reducing learning rate to 9.000000427477062e-05.\n",
            "Epoch 8/20\n",
            "247/247 [==============================] - 119s 483ms/step - loss: 0.1360 - accuracy: 0.9512 - val_loss: 0.3749 - val_accuracy: 0.8716\n",
            "Epoch 9/20\n",
            "247/247 [==============================] - 121s 488ms/step - loss: 0.1166 - accuracy: 0.9554 - val_loss: 0.1318 - val_accuracy: 0.8919\n",
            "Epoch 10/20\n",
            "247/247 [==============================] - 119s 481ms/step - loss: 0.1287 - accuracy: 0.9510 - val_loss: 0.1326 - val_accuracy: 0.8699\n",
            "Epoch 11/20\n",
            "247/247 [==============================] - 119s 482ms/step - loss: 0.1171 - accuracy: 0.9581 - val_loss: 0.2488 - val_accuracy: 0.8970\n",
            "\n",
            "Epoch 00011: ReduceLROnPlateau reducing learning rate to 2.700000040931627e-05.\n",
            "Epoch 12/20\n",
            "247/247 [==============================] - 117s 474ms/step - loss: 0.1171 - accuracy: 0.9572 - val_loss: 0.1595 - val_accuracy: 0.8699\n",
            "Epoch 13/20\n",
            "247/247 [==============================] - 118s 478ms/step - loss: 0.1170 - accuracy: 0.9585 - val_loss: 0.3128 - val_accuracy: 0.8716\n",
            "\n",
            "Epoch 00013: ReduceLROnPlateau reducing learning rate to 8.100000013655517e-06.\n",
            "Epoch 00013: early stopping\n"
          ],
          "name": "stdout"
        }
      ]
    },
    {
      "cell_type": "code",
      "metadata": {
        "id": "bTIFomzzTK5E",
        "colab_type": "code",
        "colab": {
          "base_uri": "https://localhost:8080/",
          "height": 281
        },
        "outputId": "d2c8ddb2-e13d-4301-ff15-ccc1bee2b73c"
      },
      "source": [
        "# plotting model accuracy and loss\n",
        "acc = history.history['accuracy']\n",
        "val_acc = history.history['val_accuracy']\n",
        "\n",
        "loss = history.history['loss']\n",
        "val_loss = history.history['val_loss']\n",
        "\n",
        "epochs_range = range(len(acc))\n",
        "\n",
        "plt.figure(figsize=(12, 4))\n",
        "plt.subplot(1, 2, 1)\n",
        "plt.plot(epochs_range, acc, label='train acc')\n",
        "plt.plot(epochs_range, val_acc, label='val acc')\n",
        "plt.legend(loc='lower right')\n",
        "plt.title('Training and Validation Accuracy')\n",
        "\n",
        "plt.subplot(1, 2, 2)\n",
        "plt.plot(epochs_range, loss, label='train loss')\n",
        "plt.plot(epochs_range, val_loss, label='val loss')\n",
        "plt.legend(loc='upper right')\n",
        "plt.title('Training and Validation Loss')\n",
        "plt.show()"
      ],
      "execution_count": 19,
      "outputs": [
        {
          "output_type": "display_data",
          "data": {
            "image/png": "[encoded data removed]",
            "text/plain": [
              "<Figure size 864x288 with 2 Axes>"
            ]
          },
          "metadata": {
            "tags": [],
            "needs_background": "light"
          }
        }
      ]
    },
    {
      "cell_type": "code",
      "metadata": {
        "id": "NPggDBJ4qTX5",
        "colab_type": "code",
        "colab": {
          "base_uri": "https://localhost:8080/",
          "height": 51
        },
        "outputId": "7f423ebe-28a7-48e9-9a04-a999a2187e6e"
      },
      "source": [
        "# Test your model on unknown samples (testing data)\n",
        "test_loss, test_acc = model.evaluate_generator(test_data_gen, steps=16)\n",
        "print('Test accuracy:', test_acc)\n",
        "print('Test loss:', test_loss)"
      ],
      "execution_count": 20,
      "outputs": [
        {
          "output_type": "stream",
          "text": [
            "Test accuracy: 0.865234375\n",
            "Test loss: 0.21135655045509338\n"
          ],
          "name": "stdout"
        }
      ]
    },
    {
      "cell_type": "code",
      "metadata": {
        "id": "5e76YCZC-LIJ",
        "colab_type": "code",
        "colab": {
          "base_uri": "https://localhost:8080/",
          "height": 51
        },
        "outputId": "d48ae90f-76b7-4c2e-8330-5ae2f81c9f27"
      },
      "source": [
        "# Test your model on unknown samples (testing data)\n",
        "val_loss, val_acc = model.evaluate_generator(val_data_gen, steps=2)\n",
        "print('Validation accuracy:', val_acc)\n",
        "print('Validation loss:', val_loss)"
      ],
      "execution_count": 21,
      "outputs": [
        {
          "output_type": "stream",
          "text": [
            "Validation accuracy: 1.0\n",
            "Validation loss: 0.042234599590301514\n"
          ],
          "name": "stdout"
        }
      ]
    },
    {
      "cell_type": "code",
      "metadata": {
        "id": "ST5fmGB5798i",
        "colab_type": "code",
        "colab": {}
      },
      "source": [
        "# saving model in H5 format.\n",
        "model.save('/content/drive/My Drive/Colab Notebooks/vgg16_withgan_pneumonia_shear.h5')"
      ],
      "execution_count": 22,
      "outputs": []
    },
    {
      "cell_type": "code",
      "metadata": {
        "id": "jjUEIEaVqkLi",
        "colab_type": "code",
        "colab": {
          "base_uri": "https://localhost:8080/",
          "height": 51
        },
        "outputId": "80e902e8-df1c-4f1a-d854-ee5f78d1d674"
      },
      "source": [
        "import cv2\n",
        "import numpy as np\n",
        "from collections import Counter\n",
        "\n",
        "data_path = '/content/drive/My Drive/Colab Notebooks/chest_xray/chest_xray/'\n",
        "\n",
        "# making predictions off of the test set \n",
        "# This is useful to be able to get the confusion matrix\n",
        "test_data = []\n",
        "test_labels = []\n",
        "\n",
        "for cond in ['/NORMAL/', '/PNEUMONIA/']:\n",
        "    for img in (os.listdir(data_path + 'test' + cond)):\n",
        "        img = plt.imread(data_path +'test'+ cond + img)\n",
        "        img = cv2.resize(img, (img_height, img_width))\n",
        "        img = np.dstack([img, img, img]) #concatenates along the third dimension\n",
        "        img = img.astype('float32') / 255\n",
        "        if cond =='/NORMAL/':\n",
        "            label = 0\n",
        "        elif cond =='/PNEUMONIA/':\n",
        "            label = 1\n",
        "        test_data.append(img)\n",
        "        test_labels.append(label)\n",
        "        \n",
        "test_data = np.array(test_data)\n",
        "test_labels = np.array(test_labels)\n",
        "    \n",
        "print(\"Total number of test examples: \", test_data.shape)\n",
        "print(\"Total number of labels:\", Counter(test_labels))"
      ],
      "execution_count": 23,
      "outputs": [
        {
          "output_type": "stream",
          "text": [
            "Total number of test examples:  (624, 128, 128, 3)\n",
            "Total number of labels: Counter({1: 390, 0: 234})\n"
          ],
          "name": "stdout"
        }
      ]
    },
    {
      "cell_type": "code",
      "metadata": {
        "id": "yLj3eOqSqxG8",
        "colab_type": "code",
        "colab": {
          "base_uri": "https://localhost:8080/",
          "height": 71
        },
        "outputId": "d7d5ef34-78ff-4a37-9cd2-150bc605abc5"
      },
      "source": [
        "import seaborn as sns\n",
        "# creating a function that plots the confusion matrix\n",
        "def conf_matrix(conf_mat):\n",
        "    labels = ['NORMAL', 'PNEUMONIA']\n",
        "    ax=sns.heatmap(conf_mat, xticklabels=labels, yticklabels=labels,\n",
        "                   annot=True, fmt='d', cmap=\"Blues\")\n",
        "    ax.set_title('Confusion Matrix')"
      ],
      "execution_count": 24,
      "outputs": [
        {
          "output_type": "stream",
          "text": [
            "/usr/local/lib/python3.6/dist-packages/statsmodels/tools/_testing.py:19: FutureWarning: pandas.util.testing is deprecated. Use the functions in the public API at pandas.testing instead.\n",
            "  import pandas.util.testing as tm\n"
          ],
          "name": "stderr"
        }
      ]
    },
    {
      "cell_type": "code",
      "metadata": {
        "id": "s3MFmIZCq4JX",
        "colab_type": "code",
        "colab": {}
      },
      "source": [
        "from sklearn.metrics import accuracy_score, confusion_matrix, classification_report\n",
        "\n",
        "preds = model.predict(test_data)\n",
        "\n",
        "acc = accuracy_score(test_labels, np.round(preds))*100\n",
        "cm = confusion_matrix(test_labels, np.round(preds))"
      ],
      "execution_count": 25,
      "outputs": []
    },
    {
      "cell_type": "code",
      "metadata": {
        "id": "AGUx8P2hq8S-",
        "colab_type": "code",
        "colab": {
          "base_uri": "https://localhost:8080/",
          "height": 434
        },
        "outputId": "d5d6851b-6946-47d7-8659-2eb797a4ab4d"
      },
      "source": [
        "# calling the confusion matrix    \n",
        "conf_matrix(cm)\n",
        "\n",
        "print(classification_report(test_labels, np.round(preds)))"
      ],
      "execution_count": 26,
      "outputs": [
        {
          "output_type": "stream",
          "text": [
            "              precision    recall  f1-score   support\n",
            "\n",
            "           0       0.93      0.71      0.81       234\n",
            "           1       0.85      0.97      0.90       390\n",
            "\n",
            "    accuracy                           0.87       624\n",
            "   macro avg       0.89      0.84      0.86       624\n",
            "weighted avg       0.88      0.87      0.87       624\n",
            "\n"
          ],
          "name": "stdout"
        },
        {
          "output_type": "display_data",
          "data": {
            "image/png": "[encoded data removed]",
            "text/plain": [
              "<Figure size 432x288 with 2 Axes>"
            ]
          },
          "metadata": {
            "tags": [],
            "needs_background": "light"
          }
        }
      ]
    },
    {
      "cell_type": "code",
      "metadata": {
        "id": "kMJsreJqq_fr",
        "colab_type": "code",
        "colab": {}
      },
      "source": [
        ""
      ],
      "execution_count": 26,
      "outputs": []
    }
  ]
}