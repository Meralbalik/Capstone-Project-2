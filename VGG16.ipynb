{
  "nbformat": 4,
  "nbformat_minor": 0,
  "metadata": {
    "colab": {
      "name": "VGG16.ipynb",
      "provenance": [],
      "collapsed_sections": [],
      "toc_visible": true,
      "mount_file_id": "1x1X6OY-OkJq2vCGCauAdL3yREV5NRvuI",
      "authorship_tag": "ABX9TyMjYwuiS21cQxERMVfcp7hP",
      "include_colab_link": true
    },
    "kernelspec": {
      "name": "python3",
      "display_name": "Python 3"
    },
    "accelerator": "GPU"
  },
  "cells": [
    {
      "cell_type": "markdown",
      "metadata": {
        "id": "view-in-github",
        "colab_type": "text"
      },
      "source": [
        "<a href=\"https://colab.research.google.com/github/Meralbalik/Capstone-Project-2/blob/master/VGG16.ipynb\" target=\"_parent\"><img src=\"https://colab.research.google.com/assets/colab-badge.svg\" alt=\"Open In Colab\"/></a>"
      ]
    },
    {
      "cell_type": "markdown",
      "metadata": {
        "id": "uAXc882x-prc",
        "colab_type": "text"
      },
      "source": [
        "# VGG-16 For Detecting Pneumonia From X-Ray Images"
      ]
    },
    {
      "cell_type": "code",
      "metadata": {
        "id": "tKkFR4kNUotx",
        "colab_type": "code",
        "outputId": "f12a3146-fbb8-4aa9-d353-16505c5e862f",
        "colab": {
          "base_uri": "https://localhost:8080/",
          "height": 54
        }
      },
      "source": [
        "# connecting to google drive\n",
        "from google.colab import drive\n",
        "drive.mount('/content/drive')"
      ],
      "execution_count": 43,
      "outputs": [
        {
          "output_type": "stream",
          "text": [
            "Drive already mounted at /content/drive; to attempt to forcibly remount, call drive.mount(\"/content/drive\", force_remount=True).\n"
          ],
          "name": "stdout"
        }
      ]
    },
    {
      "cell_type": "code",
      "metadata": {
        "id": "NXG0PajNU3dz",
        "colab_type": "code",
        "colab": {}
      },
      "source": [
        "import tensorflow as tf\n",
        "import os\n",
        "from tensorflow.keras.preprocessing.image import ImageDataGenerator\n",
        "from keras.applications import VGG16\n",
        "# , load_img, img_to_array\n",
        "from keras.layers import Dropout, Flatten, Dense, GlobalAveragePooling2D\n",
        "from keras.models import Model, Sequential\n",
        "import matplotlib.pyplot as plt"
      ],
      "execution_count": 0,
      "outputs": []
    },
    {
      "cell_type": "markdown",
      "metadata": {
        "id": "ndHCDaPKc3vx",
        "colab_type": "text"
      },
      "source": [
        "## Data Preperation"
      ]
    },
    {
      "cell_type": "code",
      "metadata": {
        "id": "UVPFMGT5U3aB",
        "colab_type": "code",
        "colab": {}
      },
      "source": [
        "data_path = '/content/drive/My Drive/Colab Notebooks/chest_xray/chest_xray/'\n",
        "\n",
        "# assigning variables with the proper file path for the training, validation and test set\n",
        "train_dir = os.path.join(data_path, 'train')\n",
        "val_dir = os.path.join(data_path, 'val')\n",
        "test_dir = os.path.join(data_path, 'test')"
      ],
      "execution_count": 0,
      "outputs": []
    },
    {
      "cell_type": "code",
      "metadata": {
        "id": "COIb6EnpU3Vs",
        "colab_type": "code",
        "colab": {}
      },
      "source": [
        "# assigning variables with the proper file path for the normal and pneumonia images \n",
        "train_normal_dir = os.path.join(train_dir, 'NORMAL')  \n",
        "train_pneumonia_dir = os.path.join(train_dir, 'PNEUMONIA')  \n",
        "val_normal_dir = os.path.join(val_dir, 'NORMAL') \n",
        "val_pneumonia_dir = os.path.join(val_dir, 'PNEUMONIA') \n",
        "test_normal_dir = os.path.join(test_dir, 'NORMAL')  \n",
        "test_pneumonia_dir = os.path.join(test_dir, 'PNEUMONIA')"
      ],
      "execution_count": 0,
      "outputs": []
    },
    {
      "cell_type": "code",
      "metadata": {
        "id": "fTZG44tlU3SM",
        "colab_type": "code",
        "colab": {}
      },
      "source": [
        "# image generator(Keras object) generates batches of tensor image data and this is the format that \n",
        "# the images nedd to be in and read by Keras model\n",
        "train_image_generator = ImageDataGenerator(rescale=1./255, zoom_range=0.3, vertical_flip=True) # Generator for training data\n",
        "val_image_generator = ImageDataGenerator(rescale=1./255) # Generator for validation data\n",
        "test_image_generator = ImageDataGenerator(rescale=1./255)"
      ],
      "execution_count": 0,
      "outputs": []
    },
    {
      "cell_type": "code",
      "metadata": {
        "id": "CJU3m4QtZi0P",
        "colab_type": "code",
        "colab": {}
      },
      "source": [
        "# defining the hyperparameters\n",
        "batch_size = 32\n",
        "epochs = 20\n",
        "img_height = 150\n",
        "img_width = 150"
      ],
      "execution_count": 0,
      "outputs": []
    },
    {
      "cell_type": "code",
      "metadata": {
        "id": "9QnYdg-pU3OW",
        "colab_type": "code",
        "outputId": "4c5fd098-a3d0-44f8-d247-b95df47a2997",
        "colab": {
          "base_uri": "https://localhost:8080/",
          "height": 68
        }
      },
      "source": [
        "# flow from directory is taking the path to a directory and generates batches of normalized data\n",
        "# distribution of the datasets\n",
        "train_data_gen = train_image_generator.flow_from_directory(batch_size=batch_size, directory=train_dir,\n",
        "                                                           target_size=(img_height, img_width),\n",
        "                                                           class_mode='binary', shuffle=True)\n",
        "val_data_gen = val_image_generator.flow_from_directory(batch_size=2, directory=val_dir,\n",
        "                                                              target_size=(img_height, img_width),\n",
        "                                                              class_mode='binary',shuffle=True)\n",
        "test_data_gen = test_image_generator.flow_from_directory(batch_size=batch_size, directory=test_dir,\n",
        "                                                              target_size=(img_height, img_width),\n",
        "                                                              class_mode='binary', shuffle=True)"
      ],
      "execution_count": 49,
      "outputs": [
        {
          "output_type": "stream",
          "text": [
            "Found 5216 images belonging to 2 classes.\n",
            "Found 16 images belonging to 2 classes.\n",
            "Found 624 images belonging to 2 classes.\n"
          ],
          "name": "stdout"
        }
      ]
    },
    {
      "cell_type": "markdown",
      "metadata": {
        "id": "x9JU5CZYcucg",
        "colab_type": "text"
      },
      "source": [
        "## Build Fine-Tuned VGG16 Model"
      ]
    },
    {
      "cell_type": "code",
      "metadata": {
        "id": "zx83dTKTbF6T",
        "colab_type": "code",
        "colab": {}
      },
      "source": [
        "vgg16_model = VGG16(weights = \"imagenet\", include_top=False, input_shape = (img_height,img_width, 3))"
      ],
      "execution_count": 0,
      "outputs": []
    },
    {
      "cell_type": "code",
      "metadata": {
        "id": "CsBD9ay8bF2d",
        "colab_type": "code",
        "outputId": "f644ffa3-2e25-45b8-a7e3-b630426f4606",
        "colab": {
          "base_uri": "https://localhost:8080/",
          "height": 799
        }
      },
      "source": [
        "vgg16_model.summary()"
      ],
      "execution_count": 51,
      "outputs": [
        {
          "output_type": "stream",
          "text": [
            "Model: \"vgg16\"\n",
            "_________________________________________________________________\n",
            "Layer (type)                 Output Shape              Param #   \n",
            "=================================================================\n",
            "input_4 (InputLayer)         (None, 150, 150, 3)       0         \n",
            "_________________________________________________________________\n",
            "block1_conv1 (Conv2D)        (None, 150, 150, 64)      1792      \n",
            "_________________________________________________________________\n",
            "block1_conv2 (Conv2D)        (None, 150, 150, 64)      36928     \n",
            "_________________________________________________________________\n",
            "block1_pool (MaxPooling2D)   (None, 75, 75, 64)        0         \n",
            "_________________________________________________________________\n",
            "block2_conv1 (Conv2D)        (None, 75, 75, 128)       73856     \n",
            "_________________________________________________________________\n",
            "block2_conv2 (Conv2D)        (None, 75, 75, 128)       147584    \n",
            "_________________________________________________________________\n",
            "block2_pool (MaxPooling2D)   (None, 37, 37, 128)       0         \n",
            "_________________________________________________________________\n",
            "block3_conv1 (Conv2D)        (None, 37, 37, 256)       295168    \n",
            "_________________________________________________________________\n",
            "block3_conv2 (Conv2D)        (None, 37, 37, 256)       590080    \n",
            "_________________________________________________________________\n",
            "block3_conv3 (Conv2D)        (None, 37, 37, 256)       590080    \n",
            "_________________________________________________________________\n",
            "block3_pool (MaxPooling2D)   (None, 18, 18, 256)       0         \n",
            "_________________________________________________________________\n",
            "block4_conv1 (Conv2D)        (None, 18, 18, 512)       1180160   \n",
            "_________________________________________________________________\n",
            "block4_conv2 (Conv2D)        (None, 18, 18, 512)       2359808   \n",
            "_________________________________________________________________\n",
            "block4_conv3 (Conv2D)        (None, 18, 18, 512)       2359808   \n",
            "_________________________________________________________________\n",
            "block4_pool (MaxPooling2D)   (None, 9, 9, 512)         0         \n",
            "_________________________________________________________________\n",
            "block5_conv1 (Conv2D)        (None, 9, 9, 512)         2359808   \n",
            "_________________________________________________________________\n",
            "block5_conv2 (Conv2D)        (None, 9, 9, 512)         2359808   \n",
            "_________________________________________________________________\n",
            "block5_conv3 (Conv2D)        (None, 9, 9, 512)         2359808   \n",
            "_________________________________________________________________\n",
            "block5_pool (MaxPooling2D)   (None, 4, 4, 512)         0         \n",
            "=================================================================\n",
            "Total params: 14,714,688\n",
            "Trainable params: 14,714,688\n",
            "Non-trainable params: 0\n",
            "_________________________________________________________________\n"
          ],
          "name": "stdout"
        }
      ]
    },
    {
      "cell_type": "code",
      "metadata": {
        "id": "5uWkL0dubFvC",
        "colab_type": "code",
        "outputId": "85e076e2-72f6-4649-8c17-3cb0d37bbccf",
        "colab": {
          "base_uri": "https://localhost:8080/",
          "height": 340
        }
      },
      "source": [
        "# iterating over all the layers in VGG16 by creating a for loop\n",
        "for i,layer in enumerate(vgg16_model.layers):\n",
        "    print(i,layer.name)"
      ],
      "execution_count": 52,
      "outputs": [
        {
          "output_type": "stream",
          "text": [
            "0 input_4\n",
            "1 block1_conv1\n",
            "2 block1_conv2\n",
            "3 block1_pool\n",
            "4 block2_conv1\n",
            "5 block2_conv2\n",
            "6 block2_pool\n",
            "7 block3_conv1\n",
            "8 block3_conv2\n",
            "9 block3_conv3\n",
            "10 block3_pool\n",
            "11 block4_conv1\n",
            "12 block4_conv2\n",
            "13 block4_conv3\n",
            "14 block4_pool\n",
            "15 block5_conv1\n",
            "16 block5_conv2\n",
            "17 block5_conv3\n",
            "18 block5_pool\n"
          ],
          "name": "stdout"
        }
      ]
    },
    {
      "cell_type": "code",
      "metadata": {
        "id": "brqrLnXzU3DT",
        "colab_type": "code",
        "outputId": "7d96a4b0-f2f9-4d1b-e852-9ed152aff952",
        "colab": {
          "base_uri": "https://localhost:8080/",
          "height": 1000
        }
      },
      "source": [
        "x = vgg16_model.output\n",
        "x = Flatten()(x)\n",
        "x = Dense(1024, activation = \"relu\")(x)\n",
        "x = Dropout(0.5)(x)\n",
        "x = Dense(512, activation = \"relu\")(x)\n",
        "x = Dropout(0.3)(x)\n",
        "x = Dense(256, activation = \"relu\")(x)\n",
        "x = Dropout(0.2)(x)\n",
        "preds = Dense(1, activation = \"sigmoid\")(x)\n",
        "\n",
        "model = Model(input = vgg16_model.input, output = preds)\n",
        "\n",
        "for layer in model.layers[:18]:\n",
        "    layer.trainable=False\n",
        "    \n",
        "model.summary()"
      ],
      "execution_count": 53,
      "outputs": [
        {
          "output_type": "stream",
          "text": [
            "Model: \"model_4\"\n",
            "_________________________________________________________________\n",
            "Layer (type)                 Output Shape              Param #   \n",
            "=================================================================\n",
            "input_4 (InputLayer)         (None, 150, 150, 3)       0         \n",
            "_________________________________________________________________\n",
            "block1_conv1 (Conv2D)        (None, 150, 150, 64)      1792      \n",
            "_________________________________________________________________\n",
            "block1_conv2 (Conv2D)        (None, 150, 150, 64)      36928     \n",
            "_________________________________________________________________\n",
            "block1_pool (MaxPooling2D)   (None, 75, 75, 64)        0         \n",
            "_________________________________________________________________\n",
            "block2_conv1 (Conv2D)        (None, 75, 75, 128)       73856     \n",
            "_________________________________________________________________\n",
            "block2_conv2 (Conv2D)        (None, 75, 75, 128)       147584    \n",
            "_________________________________________________________________\n",
            "block2_pool (MaxPooling2D)   (None, 37, 37, 128)       0         \n",
            "_________________________________________________________________\n",
            "block3_conv1 (Conv2D)        (None, 37, 37, 256)       295168    \n",
            "_________________________________________________________________\n",
            "block3_conv2 (Conv2D)        (None, 37, 37, 256)       590080    \n",
            "_________________________________________________________________\n",
            "block3_conv3 (Conv2D)        (None, 37, 37, 256)       590080    \n",
            "_________________________________________________________________\n",
            "block3_pool (MaxPooling2D)   (None, 18, 18, 256)       0         \n",
            "_________________________________________________________________\n",
            "block4_conv1 (Conv2D)        (None, 18, 18, 512)       1180160   \n",
            "_________________________________________________________________\n",
            "block4_conv2 (Conv2D)        (None, 18, 18, 512)       2359808   \n",
            "_________________________________________________________________\n",
            "block4_conv3 (Conv2D)        (None, 18, 18, 512)       2359808   \n",
            "_________________________________________________________________\n",
            "block4_pool (MaxPooling2D)   (None, 9, 9, 512)         0         \n",
            "_________________________________________________________________\n",
            "block5_conv1 (Conv2D)        (None, 9, 9, 512)         2359808   \n",
            "_________________________________________________________________\n",
            "block5_conv2 (Conv2D)        (None, 9, 9, 512)         2359808   \n",
            "_________________________________________________________________\n",
            "block5_conv3 (Conv2D)        (None, 9, 9, 512)         2359808   \n",
            "_________________________________________________________________\n",
            "block5_pool (MaxPooling2D)   (None, 4, 4, 512)         0         \n",
            "_________________________________________________________________\n",
            "flatten_4 (Flatten)          (None, 8192)              0         \n",
            "_________________________________________________________________\n",
            "dense_13 (Dense)             (None, 1024)              8389632   \n",
            "_________________________________________________________________\n",
            "dropout_10 (Dropout)         (None, 1024)              0         \n",
            "_________________________________________________________________\n",
            "dense_14 (Dense)             (None, 512)               524800    \n",
            "_________________________________________________________________\n",
            "dropout_11 (Dropout)         (None, 512)               0         \n",
            "_________________________________________________________________\n",
            "dense_15 (Dense)             (None, 256)               131328    \n",
            "_________________________________________________________________\n",
            "dropout_12 (Dropout)         (None, 256)               0         \n",
            "_________________________________________________________________\n",
            "dense_16 (Dense)             (None, 1)                 257       \n",
            "=================================================================\n",
            "Total params: 23,760,705\n",
            "Trainable params: 9,046,017\n",
            "Non-trainable params: 14,714,688\n",
            "_________________________________________________________________\n"
          ],
          "name": "stdout"
        },
        {
          "output_type": "stream",
          "text": [
            "/usr/local/lib/python3.6/dist-packages/ipykernel_launcher.py:11: UserWarning: Update your `Model` call to the Keras 2 API: `Model(inputs=Tensor(\"in..., outputs=Tensor(\"de...)`\n",
            "  # This is added back by InteractiveShellApp.init_path()\n"
          ],
          "name": "stderr"
        }
      ]
    },
    {
      "cell_type": "markdown",
      "metadata": {
        "id": "hMY5IYblL6Df",
        "colab_type": "text"
      },
      "source": [
        "## Train the Fine-Tuned VGG model"
      ]
    },
    {
      "cell_type": "code",
      "metadata": {
        "id": "M_sNpesWJ73b",
        "colab_type": "code",
        "colab": {}
      },
      "source": [
        "model.compile(optimizer='adam', loss='binary_crossentropy', metrics=['accuracy'])"
      ],
      "execution_count": 0,
      "outputs": []
    },
    {
      "cell_type": "code",
      "metadata": {
        "id": "o4p1cBcOMG_w",
        "colab_type": "code",
        "outputId": "c2fd695a-1d95-4c4d-ed51-303f72bb2622",
        "colab": {
          "base_uri": "https://localhost:8080/",
          "height": 34
        }
      },
      "source": [
        "# number of images for both train and test sets\n",
        "total_train = len(os.listdir(train_normal_dir)) + len(os.listdir(train_pneumonia_dir))\n",
        "total_test = len(os.listdir(test_normal_dir)) + len(os.listdir(test_pneumonia_dir))\n",
        "print(total_train, total_test)"
      ],
      "execution_count": 55,
      "outputs": [
        {
          "output_type": "stream",
          "text": [
            "5216 624\n"
          ],
          "name": "stdout"
        }
      ]
    },
    {
      "cell_type": "code",
      "metadata": {
        "id": "tPxMVBSgTNIp",
        "colab_type": "code",
        "outputId": "837783fa-8a54-4cd7-ac65-38bdfcb7fe48",
        "colab": {
          "base_uri": "https://localhost:8080/",
          "height": 34
        }
      },
      "source": [
        "%cd /content/drive/My Drive/Colab Notebooks/chest_xray/chest_xray/"
      ],
      "execution_count": 56,
      "outputs": [
        {
          "output_type": "stream",
          "text": [
            "/content/drive/My Drive/Colab Notebooks/chest_xray/chest_xray\n"
          ],
          "name": "stdout"
        }
      ]
    },
    {
      "cell_type": "code",
      "metadata": {
        "id": "Dd5YuLGYMRxn",
        "colab_type": "code",
        "outputId": "26649b09-ed6a-400f-dbaf-d6cf6488dcc1",
        "colab": {
          "base_uri": "https://localhost:8080/",
          "height": 666
        }
      },
      "source": [
        "# fitting the model\n",
        "from keras.callbacks import EarlyStopping, ReduceLROnPlateau, ModelCheckpoint\n",
        "\n",
        "checkpoint = ModelCheckpoint(filepath='/content/drive/My Drive/Colab Notebooks/vgg16_pneumonia_weights.hdf5', \n",
        "                             monitor='val_loss', save_best_only=True, save_weights_only=True)\n",
        "lr_reduce = ReduceLROnPlateau(monitor='val_loss', factor=0.3, patience=2, verbose=1, mode='auto')\n",
        "early_stopping = EarlyStopping(monitor='val_loss', min_delta=0.1, patience=10, mode='auto',verbose=1)\n",
        "\n",
        "history = model.fit_generator( \n",
        "    train_data_gen,\n",
        "    steps_per_epoch = total_train // batch_size, epochs=epochs,\n",
        "    validation_data=test_data_gen,\n",
        "    validation_steps = total_test // batch_size,\n",
        "    callbacks = [early_stopping, lr_reduce, checkpoint])"
      ],
      "execution_count": 57,
      "outputs": [
        {
          "output_type": "stream",
          "text": [
            "Epoch 1/20\n",
            " 34/163 [=====>........................] - ETA: 14:12 - loss: 0.6467 - accuracy: 0.7151"
          ],
          "name": "stdout"
        },
        {
          "output_type": "stream",
          "text": [
            "/usr/local/lib/python3.6/dist-packages/keras/utils/data_utils.py:616: UserWarning: The input 29 could not be retrieved. It could be because a worker has died.\n",
            "  UserWarning)\n"
          ],
          "name": "stderr"
        },
        {
          "output_type": "stream",
          "text": [
            " 45/163 [=======>......................] - ETA: 15:15 - loss: 0.5591 - accuracy: 0.7521"
          ],
          "name": "stdout"
        },
        {
          "output_type": "stream",
          "text": [
            "/usr/local/lib/python3.6/dist-packages/keras/utils/data_utils.py:616: UserWarning: The input 149 could not be retrieved. It could be because a worker has died.\n",
            "  UserWarning)\n"
          ],
          "name": "stderr"
        },
        {
          "output_type": "stream",
          "text": [
            " 47/163 [=======>......................] - ETA: 16:03 - loss: 0.5449 - accuracy: 0.7586"
          ],
          "name": "stdout"
        },
        {
          "output_type": "stream",
          "text": [
            "/usr/local/lib/python3.6/dist-packages/keras/utils/data_utils.py:616: UserWarning: The input 126 could not be retrieved. It could be because a worker has died.\n",
            "  UserWarning)\n"
          ],
          "name": "stderr"
        },
        {
          "output_type": "stream",
          "text": [
            " 53/163 [========>.....................] - ETA: 17:00 - loss: 0.5191 - accuracy: 0.7700"
          ],
          "name": "stdout"
        },
        {
          "output_type": "stream",
          "text": [
            "/usr/local/lib/python3.6/dist-packages/keras/utils/data_utils.py:616: UserWarning: The input 10 could not be retrieved. It could be because a worker has died.\n",
            "  UserWarning)\n"
          ],
          "name": "stderr"
        },
        {
          "output_type": "stream",
          "text": [
            "163/163 [==============================] - 1279s 8s/step - loss: 0.3627 - accuracy: 0.8416 - val_loss: 0.2118 - val_accuracy: 0.8257\n",
            "Epoch 2/20\n",
            "163/163 [==============================] - 106s 649ms/step - loss: 0.2284 - accuracy: 0.9089 - val_loss: 0.1740 - val_accuracy: 0.8818\n",
            "Epoch 3/20\n",
            "163/163 [==============================] - 104s 638ms/step - loss: 0.2111 - accuracy: 0.9145 - val_loss: 0.2256 - val_accuracy: 0.8953\n",
            "Epoch 4/20\n",
            "163/163 [==============================] - 104s 638ms/step - loss: 0.1977 - accuracy: 0.9204 - val_loss: 0.1375 - val_accuracy: 0.8953\n",
            "Epoch 5/20\n",
            "163/163 [==============================] - 104s 641ms/step - loss: 0.1822 - accuracy: 0.9287 - val_loss: 0.2086 - val_accuracy: 0.9223\n",
            "Epoch 6/20\n",
            "163/163 [==============================] - 104s 638ms/step - loss: 0.1823 - accuracy: 0.9306 - val_loss: 0.3126 - val_accuracy: 0.9054\n",
            "\n",
            "Epoch 00006: ReduceLROnPlateau reducing learning rate to 0.0003000000142492354.\n",
            "Epoch 7/20\n",
            "163/163 [==============================] - 103s 634ms/step - loss: 0.1628 - accuracy: 0.9392 - val_loss: 0.2436 - val_accuracy: 0.9172\n",
            "Epoch 8/20\n",
            "163/163 [==============================] - 105s 642ms/step - loss: 0.1528 - accuracy: 0.9406 - val_loss: 0.1393 - val_accuracy: 0.9003\n",
            "\n",
            "Epoch 00008: ReduceLROnPlateau reducing learning rate to 9.000000427477062e-05.\n",
            "Epoch 9/20\n",
            "163/163 [==============================] - 104s 639ms/step - loss: 0.1422 - accuracy: 0.9477 - val_loss: 0.2151 - val_accuracy: 0.9172\n",
            "Epoch 10/20\n",
            "163/163 [==============================] - 105s 646ms/step - loss: 0.1439 - accuracy: 0.9467 - val_loss: 0.2382 - val_accuracy: 0.9037\n",
            "\n",
            "Epoch 00010: ReduceLROnPlateau reducing learning rate to 2.700000040931627e-05.\n",
            "Epoch 11/20\n",
            "163/163 [==============================] - 105s 645ms/step - loss: 0.1387 - accuracy: 0.9482 - val_loss: 0.3122 - val_accuracy: 0.9105\n",
            "Epoch 00011: early stopping\n"
          ],
          "name": "stdout"
        }
      ]
    },
    {
      "cell_type": "code",
      "metadata": {
        "id": "O1DjOuyiF-se",
        "colab_type": "code",
        "colab": {
          "base_uri": "https://localhost:8080/",
          "height": 281
        },
        "outputId": "22410958-b8c2-4f3e-f077-e738df332498"
      },
      "source": [
        "# plotting model accuracy and loss\n",
        "acc = history.history['accuracy']\n",
        "val_acc = history.history['val_accuracy']\n",
        "\n",
        "loss = history.history['loss']\n",
        "val_loss = history.history['val_loss']\n",
        "\n",
        "epochs_range = range(len(acc))\n",
        "\n",
        "plt.figure(figsize=(12, 4))\n",
        "plt.subplot(1, 2, 1)\n",
        "plt.plot(epochs_range, acc, label='train acc')\n",
        "plt.plot(epochs_range, val_acc, label='val acc')\n",
        "plt.legend(loc='lower right')\n",
        "plt.title('Training and Validation Accuracy')\n",
        "\n",
        "plt.subplot(1, 2, 2)\n",
        "plt.plot(epochs_range, loss, label='train loss')\n",
        "plt.plot(epochs_range, val_loss, label='val loss')\n",
        "plt.legend(loc='upper right')\n",
        "plt.title('Training and Validation Loss')\n",
        "plt.show()"
      ],
      "execution_count": 69,
      "outputs": [
        {
          "output_type": "display_data",
          "data": {
            "image/png": "[encoded data removed]",
            "text/plain": [
              "<Figure size 864x288 with 2 Axes>"
            ]
          },
          "metadata": {
            "tags": [],
            "needs_background": "light"
          }
        }
      ]
    },
    {
      "cell_type": "code",
      "metadata": {
        "id": "NPggDBJ4qTX5",
        "colab_type": "code",
        "outputId": "f7a08968-77ab-46a7-c185-0a2e7216037e",
        "colab": {
          "base_uri": "https://localhost:8080/",
          "height": 51
        }
      },
      "source": [
        "# Test your model on unknown samples (testing data)\n",
        "test_loss, test_acc = model.evaluate_generator(test_data_gen, steps=16)\n",
        "print('Test accuracy:', test_acc)\n",
        "print('Test loss:', test_loss)"
      ],
      "execution_count": 59,
      "outputs": [
        {
          "output_type": "stream",
          "text": [
            "Test accuracy: 0.904296875\n",
            "Test loss: 0.1755666434764862\n"
          ],
          "name": "stdout"
        }
      ]
    },
    {
      "cell_type": "code",
      "metadata": {
        "id": "5e76YCZC-LIJ",
        "colab_type": "code",
        "colab": {
          "base_uri": "https://localhost:8080/",
          "height": 51
        },
        "outputId": "4a57d153-47e4-42b3-d30c-dfb060388c10"
      },
      "source": [
        "# Test your model on unknown samples (testing data)\n",
        "test_loss, test_acc = model.evaluate_generator(val_data_gen, steps=1)\n",
        "print('Test accuracy:', test_acc)\n",
        "print('Test loss:', test_loss)"
      ],
      "execution_count": 60,
      "outputs": [
        {
          "output_type": "stream",
          "text": [
            "Test accuracy: 1.0\n",
            "Test loss: 0.009184196591377258\n"
          ],
          "name": "stdout"
        }
      ]
    },
    {
      "cell_type": "code",
      "metadata": {
        "id": "ST5fmGB5798i",
        "colab_type": "code",
        "colab": {}
      },
      "source": [
        "# saving model in H5 format.\n",
        "model.save('/content/drive/My Drive/Colab Notebooks/vgg16_pneumonia.h5')"
      ],
      "execution_count": 0,
      "outputs": []
    },
    {
      "cell_type": "code",
      "metadata": {
        "id": "jjUEIEaVqkLi",
        "colab_type": "code",
        "outputId": "a65b0e0f-3918-4923-9225-b8528695dd1d",
        "colab": {
          "base_uri": "https://localhost:8080/",
          "height": 51
        }
      },
      "source": [
        "import cv2\n",
        "import numpy as np\n",
        "from collections import Counter\n",
        "\n",
        "data_path = '/content/drive/My Drive/Colab Notebooks/chest_xray/chest_xray/'\n",
        "\n",
        "# making predictions off of the test set \n",
        "# This is useful to be able to get the confusion matrix\n",
        "test_data = []\n",
        "test_labels = []\n",
        "\n",
        "for cond in ['/NORMAL/', '/PNEUMONIA/']:\n",
        "    for img in (os.listdir(data_path + 'test' + cond)):\n",
        "        img = plt.imread(data_path +'test'+ cond + img)\n",
        "        img = cv2.resize(img, (img_height, img_width))\n",
        "        img = np.dstack([img, img, img]) #concatenates along the third dimension\n",
        "        img = img.astype('float32') / 255\n",
        "        if cond =='/NORMAL/':\n",
        "            label = 0\n",
        "        elif cond =='/PNEUMONIA/':\n",
        "            label = 1\n",
        "        test_data.append(img)\n",
        "        test_labels.append(label)\n",
        "        \n",
        "test_data = np.array(test_data)\n",
        "test_labels = np.array(test_labels)\n",
        "    \n",
        "print(\"Total number of test examples: \", test_data.shape)\n",
        "print(\"Total number of labels:\", Counter(test_labels))"
      ],
      "execution_count": 62,
      "outputs": [
        {
          "output_type": "stream",
          "text": [
            "Total number of test examples:  (624, 150, 150, 3)\n",
            "Total number of labels: Counter({1: 390, 0: 234})\n"
          ],
          "name": "stdout"
        }
      ]
    },
    {
      "cell_type": "code",
      "metadata": {
        "id": "yLj3eOqSqxG8",
        "colab_type": "code",
        "outputId": "2488a291-0f9e-488b-d338-4b701c0b581d",
        "colab": {
          "base_uri": "https://localhost:8080/",
          "height": 71
        }
      },
      "source": [
        "import seaborn as sns\n",
        "# creating a function that plots the confusion matrix\n",
        "def conf_matrix(conf_mat):\n",
        "    labels = ['NORMAL', 'PNEUMONIA']\n",
        "    ax=sns.heatmap(conf_mat, xticklabels=labels, yticklabels=labels,\n",
        "                   annot=True, fmt='d', cmap=\"Blues\")\n",
        "    ax.set_title('Confusion Matrix')"
      ],
      "execution_count": 63,
      "outputs": [
        {
          "output_type": "stream",
          "text": [
            "/usr/local/lib/python3.6/dist-packages/statsmodels/tools/_testing.py:19: FutureWarning: pandas.util.testing is deprecated. Use the functions in the public API at pandas.testing instead.\n",
            "  import pandas.util.testing as tm\n"
          ],
          "name": "stderr"
        }
      ]
    },
    {
      "cell_type": "code",
      "metadata": {
        "id": "s3MFmIZCq4JX",
        "colab_type": "code",
        "colab": {}
      },
      "source": [
        "from sklearn.metrics import accuracy_score, confusion_matrix, classification_report\n",
        "\n",
        "preds = model.predict(test_data)\n",
        "\n",
        "acc = accuracy_score(test_labels, np.round(preds))*100\n",
        "cm = confusion_matrix(test_labels, np.round(preds))"
      ],
      "execution_count": 0,
      "outputs": []
    },
    {
      "cell_type": "code",
      "metadata": {
        "id": "AGUx8P2hq8S-",
        "colab_type": "code",
        "outputId": "c638d675-062d-4304-cd0a-82bf99f8ddfc",
        "colab": {
          "base_uri": "https://localhost:8080/",
          "height": 434
        }
      },
      "source": [
        "# calling the confusion matrix    \n",
        "conf_matrix(cm)\n",
        "\n",
        "print(classification_report(test_labels, np.round(preds)))"
      ],
      "execution_count": 65,
      "outputs": [
        {
          "output_type": "stream",
          "text": [
            "              precision    recall  f1-score   support\n",
            "\n",
            "           0       0.95      0.82      0.88       234\n",
            "           1       0.90      0.97      0.93       390\n",
            "\n",
            "    accuracy                           0.92       624\n",
            "   macro avg       0.92      0.90      0.91       624\n",
            "weighted avg       0.92      0.92      0.91       624\n",
            "\n"
          ],
          "name": "stdout"
        },
        {
          "output_type": "display_data",
          "data": {
            "image/png": "[encoded data removed]",
            "text/plain": [
              "<Figure size 432x288 with 2 Axes>"
            ]
          },
          "metadata": {
            "tags": [],
            "needs_background": "light"
          }
        }
      ]
    },
    {
      "cell_type": "code",
      "metadata": {
        "id": "RySKB_xoF6Ax",
        "colab_type": "code",
        "colab": {}
      },
      "source": [
        ""
      ],
      "execution_count": 0,
      "outputs": []
    }
  ]
}