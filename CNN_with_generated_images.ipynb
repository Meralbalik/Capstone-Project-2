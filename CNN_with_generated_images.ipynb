{
  "nbformat": 4,
  "nbformat_minor": 0,
  "metadata": {
    "colab": {
      "name": "CNN_with_generated_images.ipynb",
      "provenance": [],
      "collapsed_sections": [],
      "toc_visible": true,
      "authorship_tag": "ABX9TyPIZpUP9BIvj13iMLUo+lJ+",
      "include_colab_link": true
    },
    "kernelspec": {
      "name": "python3",
      "display_name": "Python 3"
    }
  },
  "cells": [
    {
      "cell_type": "markdown",
      "metadata": {
        "id": "view-in-github",
        "colab_type": "text"
      },
      "source": [
        "<a href=\"https://colab.research.google.com/github/Meralbalik/Capstone-Project-2/blob/master/CNN_with_generated_images.ipynb\" target=\"_parent\"><img src=\"https://colab.research.google.com/assets/colab-badge.svg\" alt=\"Open In Colab\"/></a>"
      ]
    },
    {
      "cell_type": "markdown",
      "metadata": {
        "id": "JC73j5H4_nro",
        "colab_type": "text"
      },
      "source": [
        "# CNN For Detecting Pneumonia From Orignal and DCGAN Generated X-Ray Images "
      ]
    },
    {
      "cell_type": "markdown",
      "metadata": {
        "id": "1xGFiItQ_-vw",
        "colab_type": "text"
      },
      "source": [
        "This notebook demonstrates classification of chest X-ray images with deep learning using a CNN from scratch. DCGAN generated 'NORMAL' images are added to the orginal X-ray dataset. "
      ]
    },
    {
      "cell_type": "markdown",
      "metadata": {
        "id": "Ndv0FwxFAZ3b",
        "colab_type": "text"
      },
      "source": [
        "## Using GPU"
      ]
    },
    {
      "cell_type": "code",
      "metadata": {
        "id": "q0_GqTSRo39z",
        "colab_type": "code",
        "colab": {
          "base_uri": "https://localhost:8080/",
          "height": 122
        },
        "outputId": "728025a7-d0b3-4187-c5ca-3337cf4e6e65"
      },
      "source": [
        "# connecting to google drive\n",
        "from google.colab import drive\n",
        "drive.mount('/content/drive')"
      ],
      "execution_count": 1,
      "outputs": [
        {
          "output_type": "stream",
          "text": [
            "Go to this URL in a browser: https://accounts.google.com/o/oauth2/auth?client_id=947318989803-6bn6qk8qdgf4n4g3pfee6491hc0brc4i.apps.googleusercontent.com&redirect_uri=urn%3aietf%3awg%3aoauth%3a2.0%3aoob&response_type=code&scope=email%20https%3a%2f%2fwww.googleapis.com%2fauth%2fdocs.test%20https%3a%2f%2fwww.googleapis.com%2fauth%2fdrive%20https%3a%2f%2fwww.googleapis.com%2fauth%2fdrive.photos.readonly%20https%3a%2f%2fwww.googleapis.com%2fauth%2fpeopleapi.readonly\n",
            "\n",
            "Enter your authorization code:\n",
            "··········\n",
            "Mounted at /content/drive\n"
          ],
          "name": "stdout"
        }
      ]
    },
    {
      "cell_type": "markdown",
      "metadata": {
        "id": "LsNycvd5ApPp",
        "colab_type": "text"
      },
      "source": [
        "## Data Preperation"
      ]
    },
    {
      "cell_type": "code",
      "metadata": {
        "id": "xw6nYmM7o5m4",
        "colab_type": "code",
        "colab": {
          "base_uri": "https://localhost:8080/",
          "height": 34
        },
        "outputId": "350e93a9-e6d0-46ff-d646-dd44be08e735"
      },
      "source": [
        "# listing the files in the directory\n",
        "!ls '/content/drive/My Drive/Colab Notebooks/chest_xray/'"
      ],
      "execution_count": 28,
      "outputs": [
        {
          "output_type": "stream",
          "text": [
            "chest_xray  __MACOSX  normal_gan_added_to_train  test  val\n"
          ],
          "name": "stdout"
        }
      ]
    },
    {
      "cell_type": "code",
      "metadata": {
        "id": "4eaC9lsx1682",
        "colab_type": "code",
        "colab": {
          "base_uri": "https://localhost:8080/",
          "height": 34
        },
        "outputId": "3efb004d-05de-4e63-ec05-846e0ec61b4f"
      },
      "source": [
        "data_path = '/content/drive/My Drive/Colab Notebooks/chest_xray/normal_gan_added_to_train/'\n",
        "!ls '/content/drive/My Drive/Colab Notebooks/chest_xray/normal_gan_added_to_train/'"
      ],
      "execution_count": 32,
      "outputs": [
        {
          "output_type": "stream",
          "text": [
            "test  train  val\n"
          ],
          "name": "stdout"
        }
      ]
    },
    {
      "cell_type": "code",
      "metadata": {
        "id": "3Q8GGB2vpM2k",
        "colab_type": "code",
        "colab": {}
      },
      "source": [
        "# importing necessary packages\n",
        "import tensorflow as tf\n",
        "import matplotlib.pyplot as plt\n",
        "import os\n",
        "import pandas as pd\n",
        "import numpy as np\n",
        "\n",
        "# setting seeds for reproducibility\n",
        "seed = 232\n",
        "np.random.seed(seed)\n",
        "tf.random.set_seed(seed)"
      ],
      "execution_count": 33,
      "outputs": []
    },
    {
      "cell_type": "code",
      "metadata": {
        "id": "3x8MBLmX-O1h",
        "colab_type": "code",
        "colab": {}
      },
      "source": [
        "# assigning variables with the proper file path for the training, validation and test set\n",
        "train_dir = os.path.join(data_path, 'train')\n",
        "val_dir = os.path.join(data_path, 'val')\n",
        "test_dir = os.path.join(data_path, 'test')"
      ],
      "execution_count": 34,
      "outputs": []
    },
    {
      "cell_type": "code",
      "metadata": {
        "id": "jN17XuC8-hQO",
        "colab_type": "code",
        "colab": {}
      },
      "source": [
        "# assigning variables with the proper file path for the normal and pneumonia images \n",
        "train_normal_dir = os.path.join(train_dir, 'NORMAL')  \n",
        "train_pneumonia_dir = os.path.join(train_dir, 'PNEUMONIA')  \n",
        "val_normal_dir = os.path.join(val_dir, 'NORMAL') \n",
        "val_pneumonia_dir = os.path.join(val_dir, 'PNEUMONIA') \n",
        "test_normal_dir = os.path.join(test_dir, 'NORMAL')  \n",
        "test_pneumonia_dir = os.path.join(test_dir, 'PNEUMONIA')"
      ],
      "execution_count": 35,
      "outputs": []
    },
    {
      "cell_type": "code",
      "metadata": {
        "id": "5Vl5Hcir-khG",
        "colab_type": "code",
        "colab": {
          "base_uri": "https://localhost:8080/",
          "height": 119
        },
        "outputId": "eefbe994-7663-4c23-fd6f-e52e8ca2cbf5"
      },
      "source": [
        "# looking at how many images there are in each directory\n",
        "dir = [train_normal_dir, train_pneumonia_dir, val_normal_dir,\n",
        "            val_pneumonia_dir, test_normal_dir, test_pneumonia_dir]\n",
        "dir_name = ['train_normal_dir', 'train_pneumonia_dir', 'val_normal_dir',\n",
        "            'val_pneumonia_dir', 'test_normal_dir', 'test_pneumonia_dir']\n",
        "for name, dir in zip(dir_name, dir):\n",
        "  num_of_images = len(os.listdir(dir))\n",
        "  print ('Number of images in {}: {}'.format(name, num_of_images))"
      ],
      "execution_count": 36,
      "outputs": [
        {
          "output_type": "stream",
          "text": [
            "Number of images in train_normal_dir: 4031\n",
            "Number of images in train_pneumonia_dir: 3875\n",
            "Number of images in val_normal_dir: 8\n",
            "Number of images in val_pneumonia_dir: 8\n",
            "Number of images in test_normal_dir: 234\n",
            "Number of images in test_pneumonia_dir: 390\n"
          ],
          "name": "stdout"
        }
      ]
    },
    {
      "cell_type": "code",
      "metadata": {
        "id": "5_h2APG6-o6_",
        "colab_type": "code",
        "colab": {}
      },
      "source": [
        "from tensorflow.keras.preprocessing.image import ImageDataGenerator, load_img, img_to_array\n",
        "train_image_generator = ImageDataGenerator(rescale=1./255, zoom_range=0.3, vertical_flip=True) # Generator for training data\n",
        "val_image_generator = ImageDataGenerator(rescale=1./255) # Generator for validation data\n",
        "test_image_generator = ImageDataGenerator(rescale=1./255) # Generator for test data"
      ],
      "execution_count": 46,
      "outputs": []
    },
    {
      "cell_type": "code",
      "metadata": {
        "id": "Qf-3QyW1-wJ9",
        "colab_type": "code",
        "colab": {}
      },
      "source": [
        "# defining the hyperparameters\n",
        "batch_size = 32\n",
        "epochs = 20\n",
        "img_height = 128\n",
        "img_width = 128"
      ],
      "execution_count": 47,
      "outputs": []
    },
    {
      "cell_type": "code",
      "metadata": {
        "id": "Ofy6gCmF-2Hr",
        "colab_type": "code",
        "colab": {
          "base_uri": "https://localhost:8080/",
          "height": 68
        },
        "outputId": "d2a66da3-6102-4b2a-9784-238b77542100"
      },
      "source": [
        "# distribution of the datasets\n",
        "train_data_gen = train_image_generator.flow_from_directory(batch_size=batch_size,\n",
        "                                                           directory=train_dir,\n",
        "                                                           target_size=(img_height, img_width),\n",
        "                                                           class_mode='binary',\n",
        "                                                           shuffle=True)\n",
        "val_data_gen = val_image_generator.flow_from_directory(batch_size=2,\n",
        "                                                              directory=val_dir,\n",
        "                                                              target_size=(img_height, img_width),\n",
        "                                                              class_mode='binary',shuffle=True\n",
        "                                                             )\n",
        "test_data_gen = test_image_generator.flow_from_directory(batch_size=batch_size,\n",
        "                                                              directory=test_dir,\n",
        "                                                              target_size=(img_height, img_width),\n",
        "                                                              class_mode='binary',\n",
        "                                                              shuffle=True)"
      ],
      "execution_count": 52,
      "outputs": [
        {
          "output_type": "stream",
          "text": [
            "Found 7906 images belonging to 2 classes.\n",
            "Found 16 images belonging to 2 classes.\n",
            "Found 624 images belonging to 2 classes.\n"
          ],
          "name": "stdout"
        }
      ]
    },
    {
      "cell_type": "code",
      "metadata": {
        "id": "foeAc8Ux-5-o",
        "colab_type": "code",
        "colab": {
          "base_uri": "https://localhost:8080/",
          "height": 68
        },
        "outputId": "c63d2984-e159-48f6-e3c7-8bf84a7b4f20"
      },
      "source": [
        "print(\"Shape of training images {}\".format(train_data_gen.image_shape))\n",
        "print(\"Shape of test images {}\".format(test_data_gen.image_shape))\n",
        "print(\"Shape of validation images {}\".format(val_data_gen.image_shape))"
      ],
      "execution_count": 40,
      "outputs": [
        {
          "output_type": "stream",
          "text": [
            "Shape of training images (128, 128, 3)\n",
            "Shape of test images (128, 128, 3)\n",
            "Shape of validation images (128, 128, 3)\n"
          ],
          "name": "stdout"
        }
      ]
    },
    {
      "cell_type": "markdown",
      "metadata": {
        "id": "gjkW4NZ3_Ddh",
        "colab_type": "text"
      },
      "source": [
        "## Implement the CNN architecture with Keras"
      ]
    },
    {
      "cell_type": "code",
      "metadata": {
        "id": "0qufRKeJ-_J3",
        "colab_type": "code",
        "colab": {}
      },
      "source": [
        "# importing necessary packages\n",
        "from tensorflow.keras.models import Model, Sequential\n",
        "from tensorflow.keras.layers import Input, Dense, Flatten, Dropout, BatchNormalization\n",
        "from tensorflow.keras.layers import Conv2D, MaxPooling2D, LeakyReLU, Activation\n",
        "from tensorflow.keras.optimizers import Adam"
      ],
      "execution_count": 41,
      "outputs": []
    },
    {
      "cell_type": "code",
      "metadata": {
        "id": "ZLwWGajL_Iq7",
        "colab_type": "code",
        "colab": {}
      },
      "source": [
        "# creating the CNN architecture\n",
        "model = Sequential()\n",
        "\n",
        "model.add(Conv2D(filters=16, kernel_size=(3, 3), padding='same', activation='relu', \n",
        "                 input_shape=(img_height, img_width ,3)))\n",
        "model.add(Conv2D(filters=16, kernel_size=(3, 3), padding='same', activation='relu'))\n",
        "model.add(MaxPooling2D(pool_size=(2, 2)))\n",
        "\n",
        "model.add(Conv2D(filters=32, kernel_size=(3, 3), padding='same', activation='relu'))\n",
        "model.add(Conv2D(filters=32, kernel_size=(3, 3), padding='same', activation='relu'))\n",
        "model.add(BatchNormalization())\n",
        "model.add(MaxPooling2D(pool_size=(2, 2)))\n",
        "#model.add(Dropout(0.2))\n",
        "\n",
        "model.add(Conv2D(filters=64, kernel_size=(3, 3), padding='same', activation='relu'))\n",
        "model.add(Conv2D(filters=64, kernel_size=(3, 3), padding='same', activation='relu'))\n",
        "model.add(BatchNormalization())\n",
        "model.add(MaxPooling2D(pool_size=(2, 2)))\n",
        "model.add(Dropout(0.2))\n",
        "\n",
        "model.add(Conv2D(filters=128, kernel_size=(3, 3), padding='same', activation='relu'))\n",
        "model.add(Conv2D(filters=128, kernel_size=(3, 3), padding='same', activation='relu'))\n",
        "model.add(BatchNormalization())\n",
        "model.add(MaxPooling2D(pool_size=(2, 2)))\n",
        "model.add(Dropout(0.2))\n",
        "\n",
        "model.add(Flatten())\n",
        "\n",
        "model.add(Dense(512, activation='relu'))\n",
        "model.add(Dropout(rate=0.5))\n",
        "model.add(Dense(128, activation='relu'))\n",
        "model.add(Dropout(rate=0.3))\n",
        "model.add(Dense(64, activation='relu'))\n",
        "model.add(Dropout(rate=0.2))\n",
        "model.add(Dense(1, activation='sigmoid'))"
      ],
      "execution_count": 42,
      "outputs": []
    },
    {
      "cell_type": "markdown",
      "metadata": {
        "id": "g9fTm4Ho_Qby",
        "colab_type": "text"
      },
      "source": [
        "## Compile Model"
      ]
    },
    {
      "cell_type": "code",
      "metadata": {
        "id": "JzcjhApc_Mnn",
        "colab_type": "code",
        "colab": {
          "base_uri": "https://localhost:8080/",
          "height": 1000
        },
        "outputId": "37a7fedf-9da0-4500-fdd7-4643a6e1f7af"
      },
      "source": [
        "model.compile(optimizer='adam', loss='binary_crossentropy', metrics=['accuracy'])\n",
        "model.summary()"
      ],
      "execution_count": 43,
      "outputs": [
        {
          "output_type": "stream",
          "text": [
            "Model: \"sequential\"\n",
            "_________________________________________________________________\n",
            "Layer (type)                 Output Shape              Param #   \n",
            "=================================================================\n",
            "conv2d (Conv2D)              (None, 128, 128, 16)      448       \n",
            "_________________________________________________________________\n",
            "conv2d_1 (Conv2D)            (None, 128, 128, 16)      2320      \n",
            "_________________________________________________________________\n",
            "max_pooling2d (MaxPooling2D) (None, 64, 64, 16)        0         \n",
            "_________________________________________________________________\n",
            "conv2d_2 (Conv2D)            (None, 64, 64, 32)        4640      \n",
            "_________________________________________________________________\n",
            "conv2d_3 (Conv2D)            (None, 64, 64, 32)        9248      \n",
            "_________________________________________________________________\n",
            "batch_normalization (BatchNo (None, 64, 64, 32)        128       \n",
            "_________________________________________________________________\n",
            "max_pooling2d_1 (MaxPooling2 (None, 32, 32, 32)        0         \n",
            "_________________________________________________________________\n",
            "conv2d_4 (Conv2D)            (None, 32, 32, 64)        18496     \n",
            "_________________________________________________________________\n",
            "conv2d_5 (Conv2D)            (None, 32, 32, 64)        36928     \n",
            "_________________________________________________________________\n",
            "batch_normalization_1 (Batch (None, 32, 32, 64)        256       \n",
            "_________________________________________________________________\n",
            "max_pooling2d_2 (MaxPooling2 (None, 16, 16, 64)        0         \n",
            "_________________________________________________________________\n",
            "dropout (Dropout)            (None, 16, 16, 64)        0         \n",
            "_________________________________________________________________\n",
            "conv2d_6 (Conv2D)            (None, 16, 16, 128)       73856     \n",
            "_________________________________________________________________\n",
            "conv2d_7 (Conv2D)            (None, 16, 16, 128)       147584    \n",
            "_________________________________________________________________\n",
            "batch_normalization_2 (Batch (None, 16, 16, 128)       512       \n",
            "_________________________________________________________________\n",
            "max_pooling2d_3 (MaxPooling2 (None, 8, 8, 128)         0         \n",
            "_________________________________________________________________\n",
            "dropout_1 (Dropout)          (None, 8, 8, 128)         0         \n",
            "_________________________________________________________________\n",
            "flatten (Flatten)            (None, 8192)              0         \n",
            "_________________________________________________________________\n",
            "dense (Dense)                (None, 512)               4194816   \n",
            "_________________________________________________________________\n",
            "dropout_2 (Dropout)          (None, 512)               0         \n",
            "_________________________________________________________________\n",
            "dense_1 (Dense)              (None, 128)               65664     \n",
            "_________________________________________________________________\n",
            "dropout_3 (Dropout)          (None, 128)               0         \n",
            "_________________________________________________________________\n",
            "dense_2 (Dense)              (None, 64)                8256      \n",
            "_________________________________________________________________\n",
            "dropout_4 (Dropout)          (None, 64)                0         \n",
            "_________________________________________________________________\n",
            "dense_3 (Dense)              (None, 1)                 65        \n",
            "=================================================================\n",
            "Total params: 4,563,217\n",
            "Trainable params: 4,562,769\n",
            "Non-trainable params: 448\n",
            "_________________________________________________________________\n"
          ],
          "name": "stdout"
        }
      ]
    },
    {
      "cell_type": "code",
      "metadata": {
        "id": "xNs3bich_YMX",
        "colab_type": "code",
        "colab": {
          "base_uri": "https://localhost:8080/",
          "height": 34
        },
        "outputId": "8f60a374-e319-41c3-e76c-53af3e4dd80d"
      },
      "source": [
        "# number of images for both train and test sets\n",
        "total_train = len(os.listdir(train_normal_dir)) + len(os.listdir(train_pneumonia_dir))\n",
        "total_test = len(os.listdir(test_normal_dir)) + len(os.listdir(test_pneumonia_dir))\n",
        "print(total_train, total_test)"
      ],
      "execution_count": 44,
      "outputs": [
        {
          "output_type": "stream",
          "text": [
            "7906 624\n"
          ],
          "name": "stdout"
        }
      ]
    },
    {
      "cell_type": "code",
      "metadata": {
        "id": "izEcDeTJ_d7Q",
        "colab_type": "code",
        "colab": {
          "base_uri": "https://localhost:8080/",
          "height": 714
        },
        "outputId": "9ef635fe-8d90-4fd1-a91e-4f7c9d2c3634"
      },
      "source": [
        "# fitting the model\n",
        "from tensorflow.keras.callbacks import EarlyStopping, ReduceLROnPlateau, ModelCheckpoint\n",
        "\n",
        "checkpoint = ModelCheckpoint(filepath='best_weights.hdf5', monitor='val_loss', save_best_only=True, save_weights_only=True)\n",
        "lr_reduce = ReduceLROnPlateau(monitor='val_loss', factor=0.3, patience=2, verbose=1, mode='max')\n",
        "early_stopping = EarlyStopping(monitor='val_loss', min_delta=0.1, patience=5, mode='auto',verbose=1)\n",
        "\n",
        "history = model.fit_generator(\n",
        "    train_data_gen,\n",
        "    steps_per_epoch = total_train // batch_size, \n",
        "    epochs=epochs,\n",
        "    validation_data=test_data_gen,\n",
        "    validation_steps = total_test // batch_size,\n",
        "    callbacks = [early_stopping, lr_reduce, checkpoint])"
      ],
      "execution_count": 49,
      "outputs": [
        {
          "output_type": "stream",
          "text": [
            "Epoch 1/20\n",
            "247/247 [==============================] - 490s 2s/step - loss: 0.1950 - accuracy: 0.9295 - val_loss: 1.3493 - val_accuracy: 0.6431 - lr: 3.0000e-04\n",
            "Epoch 2/20\n",
            "247/247 [==============================] - 492s 2s/step - loss: 0.1483 - accuracy: 0.9434 - val_loss: 2.4467 - val_accuracy: 0.5477 - lr: 3.0000e-04\n",
            "Epoch 3/20\n",
            "247/247 [==============================] - 486s 2s/step - loss: 0.1327 - accuracy: 0.9540 - val_loss: 0.8064 - val_accuracy: 0.7039 - lr: 3.0000e-04\n",
            "Epoch 4/20\n",
            "247/247 [==============================] - ETA: 0s - loss: 0.1227 - accuracy: 0.9552\n",
            "Epoch 00004: ReduceLROnPlateau reducing learning rate to 9.000000427477062e-05.\n",
            "247/247 [==============================] - 500s 2s/step - loss: 0.1227 - accuracy: 0.9552 - val_loss: 0.4280 - val_accuracy: 0.8684 - lr: 3.0000e-04\n",
            "Epoch 5/20\n",
            "247/247 [==============================] - 490s 2s/step - loss: 0.1043 - accuracy: 0.9586 - val_loss: 0.3353 - val_accuracy: 0.8898 - lr: 9.0000e-05\n",
            "Epoch 6/20\n",
            "247/247 [==============================] - ETA: 0s - loss: 0.0997 - accuracy: 0.9656\n",
            "Epoch 00006: ReduceLROnPlateau reducing learning rate to 2.700000040931627e-05.\n",
            "247/247 [==============================] - 487s 2s/step - loss: 0.0997 - accuracy: 0.9656 - val_loss: 0.3984 - val_accuracy: 0.8717 - lr: 9.0000e-05\n",
            "Epoch 7/20\n",
            "247/247 [==============================] - 485s 2s/step - loss: 0.0899 - accuracy: 0.9663 - val_loss: 0.3570 - val_accuracy: 0.8816 - lr: 2.7000e-05\n",
            "Epoch 8/20\n",
            "247/247 [==============================] - ETA: 0s - loss: 0.0953 - accuracy: 0.9648\n",
            "Epoch 00008: ReduceLROnPlateau reducing learning rate to 8.100000013655517e-06.\n",
            "247/247 [==============================] - 487s 2s/step - loss: 0.0953 - accuracy: 0.9648 - val_loss: 0.3365 - val_accuracy: 0.8931 - lr: 2.7000e-05\n",
            "Epoch 9/20\n",
            "247/247 [==============================] - 487s 2s/step - loss: 0.0910 - accuracy: 0.9657 - val_loss: 0.3215 - val_accuracy: 0.8947 - lr: 8.1000e-06\n",
            "Epoch 10/20\n",
            "247/247 [==============================] - ETA: 0s - loss: 0.0890 - accuracy: 0.9710\n",
            "Epoch 00010: ReduceLROnPlateau reducing learning rate to 2.429999949526973e-06.\n",
            "247/247 [==============================] - 487s 2s/step - loss: 0.0890 - accuracy: 0.9710 - val_loss: 0.3710 - val_accuracy: 0.8816 - lr: 8.1000e-06\n",
            "Epoch 11/20\n",
            "247/247 [==============================] - 487s 2s/step - loss: 0.0843 - accuracy: 0.9693 - val_loss: 0.3556 - val_accuracy: 0.8898 - lr: 2.4300e-06\n",
            "Epoch 12/20\n",
            "247/247 [==============================] - ETA: 0s - loss: 0.0873 - accuracy: 0.9688\n",
            "Epoch 00012: ReduceLROnPlateau reducing learning rate to 7.289999985005124e-07.\n",
            "247/247 [==============================] - 484s 2s/step - loss: 0.0873 - accuracy: 0.9688 - val_loss: 0.3821 - val_accuracy: 0.8799 - lr: 2.4300e-06\n",
            "Epoch 13/20\n",
            "247/247 [==============================] - 486s 2s/step - loss: 0.0898 - accuracy: 0.9696 - val_loss: 0.3513 - val_accuracy: 0.8898 - lr: 7.2900e-07\n",
            "Epoch 14/20\n",
            "247/247 [==============================] - ETA: 0s - loss: 0.0873 - accuracy: 0.9694\n",
            "Epoch 00014: ReduceLROnPlateau reducing learning rate to 2.1870000637136398e-07.\n",
            "247/247 [==============================] - 485s 2s/step - loss: 0.0873 - accuracy: 0.9694 - val_loss: 0.3623 - val_accuracy: 0.8849 - lr: 7.2900e-07\n",
            "Epoch 00014: early stopping\n"
          ],
          "name": "stdout"
        }
      ]
    },
    {
      "cell_type": "code",
      "metadata": {
        "id": "Ef6m3DQTAtnk",
        "colab_type": "code",
        "colab": {
          "base_uri": "https://localhost:8080/",
          "height": 281
        },
        "outputId": "21cae899-d33e-4b3a-9733-0452284c901b"
      },
      "source": [
        "# plotting model accuracy and loss\n",
        "acc = history.history['accuracy']\n",
        "val_acc = history.history['val_accuracy']\n",
        "\n",
        "loss = history.history['loss']\n",
        "val_loss = history.history['val_loss']\n",
        "\n",
        "epochs_range = range(len(acc))\n",
        "\n",
        "plt.figure(figsize=(12, 4))\n",
        "plt.subplot(1, 2, 1)\n",
        "plt.plot(epochs_range, acc, label='train acc')\n",
        "plt.plot(epochs_range, val_acc, label='val acc')\n",
        "plt.legend(loc='lower right')\n",
        "plt.title('Training and Validation Accuracy')\n",
        "\n",
        "plt.subplot(1, 2, 2)\n",
        "plt.plot(epochs_range, loss, label='train loss')\n",
        "plt.plot(epochs_range, val_loss, label='val loss')\n",
        "plt.legend(loc='upper right')\n",
        "plt.title('Training and Validation Loss')\n",
        "plt.show()"
      ],
      "execution_count": 50,
      "outputs": [
        {
          "output_type": "display_data",
          "data": {
            "image/png": "[encoded data removed]",
            "text/plain": [
              "<Figure size 864x288 with 2 Axes>"
            ]
          },
          "metadata": {
            "tags": [],
            "needs_background": "light"
          }
        }
      ]
    },
    {
      "cell_type": "code",
      "metadata": {
        "id": "uoYVq93ZqFyE",
        "colab_type": "code",
        "colab": {
          "base_uri": "https://localhost:8080/",
          "height": 122
        },
        "outputId": "0c44f5d2-41fb-4fe7-f8ea-28da4f7d3673"
      },
      "source": [
        "# Test your model on unknown samples (testing data)\n",
        "test_loss, test_acc = model.evaluate_generator(test_data_gen, steps=16)\n",
        "print('Test accuracy:', test_acc)\n",
        "print('Test loss:', test_loss)"
      ],
      "execution_count": 51,
      "outputs": [
        {
          "output_type": "stream",
          "text": [
            "WARNING:tensorflow:From <ipython-input-51-4758d9d646c5>:2: Model.evaluate_generator (from tensorflow.python.keras.engine.training) is deprecated and will be removed in a future version.\n",
            "Instructions for updating:\n",
            "Please use Model.evaluate, which supports generators.\n",
            "Test accuracy: 0.8828125\n",
            "Test loss: 0.3793012797832489\n"
          ],
          "name": "stdout"
        }
      ]
    },
    {
      "cell_type": "code",
      "metadata": {
        "id": "MffamNXbqLl7",
        "colab_type": "code",
        "colab": {
          "base_uri": "https://localhost:8080/",
          "height": 51
        },
        "outputId": "26a60ecb-3022-48a7-bc33-14ad9d0c9a9b"
      },
      "source": [
        "# Test your model on unknown samples (testing data)\n",
        "test_loss, test_acc = model.evaluate_generator(val_data_gen, steps=2)\n",
        "print('Test accuracy:', test_acc)\n",
        "print('Test loss:', test_loss)"
      ],
      "execution_count": 55,
      "outputs": [
        {
          "output_type": "stream",
          "text": [
            "Test accuracy: 1.0\n",
            "Test loss: 0.126417338848114\n"
          ],
          "name": "stdout"
        }
      ]
    },
    {
      "cell_type": "code",
      "metadata": {
        "id": "8nXkwKzcqU0C",
        "colab_type": "code",
        "colab": {}
      },
      "source": [
        "# saving model in H5 format.\n",
        "model.save('/content/drive/My Drive/Colab Notebooks/CNN_with_gan.h5')"
      ],
      "execution_count": 56,
      "outputs": []
    },
    {
      "cell_type": "code",
      "metadata": {
        "id": "VxDLgSSvqtGp",
        "colab_type": "code",
        "colab": {
          "base_uri": "https://localhost:8080/",
          "height": 51
        },
        "outputId": "4ba156a1-50d8-4675-91f0-b98a8e82cb40"
      },
      "source": [
        "import cv2\n",
        "import numpy as np\n",
        "from collections import Counter\n",
        "\n",
        "data_path = '/content/drive/My Drive/Colab Notebooks/chest_xray/chest_xray/'\n",
        "\n",
        "# making predictions off of the test set \n",
        "# This is useful to be able to get the confusion matrix\n",
        "test_data = []\n",
        "test_labels = []\n",
        "\n",
        "for cond in ['/NORMAL/', '/PNEUMONIA/']:\n",
        "    for img in (os.listdir(data_path + 'test' + cond)):\n",
        "        img = plt.imread(data_path +'test'+ cond + img)\n",
        "        img = cv2.resize(img, (img_height, img_width))\n",
        "        img = np.dstack([img, img, img]) #concatenates along the third dimension\n",
        "        img = img.astype('float32') / 255\n",
        "        if cond =='/NORMAL/':\n",
        "            label = 0\n",
        "        elif cond =='/PNEUMONIA/':\n",
        "            label = 1\n",
        "        test_data.append(img)\n",
        "        test_labels.append(label)\n",
        "        \n",
        "test_data = np.array(test_data)\n",
        "test_labels = np.array(test_labels)\n",
        "    \n",
        "print(\"Total number of test examples: \", test_data.shape)\n",
        "print(\"Total number of labels:\", Counter(test_labels))"
      ],
      "execution_count": 57,
      "outputs": [
        {
          "output_type": "stream",
          "text": [
            "Total number of test examples:  (624, 128, 128, 3)\n",
            "Total number of labels: Counter({1: 390, 0: 234})\n"
          ],
          "name": "stdout"
        }
      ]
    },
    {
      "cell_type": "code",
      "metadata": {
        "id": "SfDHy4hiqx2T",
        "colab_type": "code",
        "colab": {
          "base_uri": "https://localhost:8080/",
          "height": 71
        },
        "outputId": "6d391f10-a697-4a58-ce2f-d69b20fe236f"
      },
      "source": [
        "import seaborn as sns\n",
        "# creating a function that plots the confusion matrix\n",
        "def conf_matrix(conf_mat):\n",
        "    labels = ['NORMAL', 'PNEUMONIA']\n",
        "    ax=sns.heatmap(conf_mat, xticklabels=labels, yticklabels=labels,\n",
        "                   annot=True, fmt='d', cmap=\"Blues\")\n",
        "    ax.set_title('Confusion Matrix')"
      ],
      "execution_count": 61,
      "outputs": [
        {
          "output_type": "stream",
          "text": [
            "/usr/local/lib/python3.6/dist-packages/statsmodels/tools/_testing.py:19: FutureWarning: pandas.util.testing is deprecated. Use the functions in the public API at pandas.testing instead.\n",
            "  import pandas.util.testing as tm\n"
          ],
          "name": "stderr"
        }
      ]
    },
    {
      "cell_type": "code",
      "metadata": {
        "id": "qXWoJ3wIrVYq",
        "colab_type": "code",
        "colab": {}
      },
      "source": [
        "from sklearn.metrics import accuracy_score, confusion_matrix, classification_report\n",
        "\n",
        "preds = model.predict(test_data)\n",
        "\n",
        "acc = accuracy_score(test_labels, np.round(preds))*100\n",
        "cm = confusion_matrix(test_labels, np.round(preds))"
      ],
      "execution_count": 62,
      "outputs": []
    },
    {
      "cell_type": "code",
      "metadata": {
        "id": "_peI96mRrZeu",
        "colab_type": "code",
        "colab": {
          "base_uri": "https://localhost:8080/",
          "height": 434
        },
        "outputId": "579263c0-0c2b-4468-b9da-cb7186a0861b"
      },
      "source": [
        "# calling the confusion matrix    \n",
        "conf_matrix(cm)\n",
        "\n",
        "print(classification_report(test_labels, np.round(preds)))"
      ],
      "execution_count": 63,
      "outputs": [
        {
          "output_type": "stream",
          "text": [
            "              precision    recall  f1-score   support\n",
            "\n",
            "           0       0.93      0.74      0.82       234\n",
            "           1       0.86      0.97      0.91       390\n",
            "\n",
            "    accuracy                           0.88       624\n",
            "   macro avg       0.90      0.85      0.87       624\n",
            "weighted avg       0.89      0.88      0.88       624\n",
            "\n"
          ],
          "name": "stdout"
        },
        {
          "output_type": "display_data",
          "data": {
            "image/png": "[encoded data removed]",
            "text/plain": [
              "<Figure size 432x288 with 2 Axes>"
            ]
          },
          "metadata": {
            "tags": [],
            "needs_background": "light"
          }
        }
      ]
    },
    {
      "cell_type": "code",
      "metadata": {
        "id": "rlLJrZIHrcIc",
        "colab_type": "code",
        "colab": {}
      },
      "source": [
        ""
      ],
      "execution_count": null,
      "outputs": []
    }
  ]
}